{
 "cells": [
  {
   "cell_type": "code",
   "execution_count": 3,
   "metadata": {
    "collapsed": true
   },
   "outputs": [],
   "source": [
    "import pickle\n",
    "import random\n",
    "import sys\n",
    "import pyprind"
   ]
  },
  {
   "cell_type": "markdown",
   "metadata": {},
   "source": [
    "## read from WikiData"
   ]
  },
  {
   "cell_type": "code",
   "execution_count": null,
   "metadata": {
    "collapsed": false
   },
   "outputs": [],
   "source": [
    "# get number of relation types\n",
    "\n",
    "def num_type_relations(unit):\n",
    "    return len(unit['claims'])"
   ]
  },
  {
   "cell_type": "code",
   "execution_count": null,
   "metadata": {
    "collapsed": true
   },
   "outputs": [],
   "source": [
    "# get number of relations\n",
    "\n",
    "def num_relations(unit):\n",
    "    counts = [len(m) for m in unit[\"claims\"]]\n",
    "    return sum(counts)"
   ]
  },
  {
   "cell_type": "code",
   "execution_count": null,
   "metadata": {
    "collapsed": false
   },
   "outputs": [],
   "source": [
    "# get related entities\n",
    "\n",
    "def make_Q(src):\n",
    "    m = \"Q\"+ str(src)\n",
    "    return  m\n",
    "\n",
    "def related_entities(unit):\n",
    "    ret = []\n",
    "    for claim in unit['claims'].values():\n",
    "        # print claim\n",
    "        for single in claim:\n",
    "            try:\n",
    "                # print single[u'mainsnak'][u'datavalue'][u'value'][u'numeric-id']\n",
    "                ret.append(   make_Q(single[u'mainsnak'][u'datavalue'][u'value'][u'numeric-id'])   )\n",
    "            except:\n",
    "                pass\n",
    "    \n",
    "    return ret"
   ]
  },
  {
   "cell_type": "code",
   "execution_count": null,
   "metadata": {
    "collapsed": false
   },
   "outputs": [],
   "source": [
    "# get freebase ID\n",
    "\n",
    "def get_freebase(unit):\n",
    "    ret = \"\"\n",
    "    try:\n",
    "        ret = unit['claims'][u'P646'][0][u'mainsnak'][u'datavalue']['value']\n",
    "    except:\n",
    "        ret = \"NONE_FREEBASE\"\n",
    "    return ret"
   ]
  },
  {
   "cell_type": "code",
   "execution_count": null,
   "metadata": {
    "collapsed": true
   },
   "outputs": [],
   "source": [
    "# get wikipedia page\n",
    "\n",
    "def get_wikititle(unit):\n",
    "    ret = \"\"\n",
    "    try:\n",
    "        ret = unit['sitelinks']['enwiki']['title']\n",
    "    except:\n",
    "        ret = \"NONE_WIKITITLE\"\n",
    "    return ret"
   ]
  },
  {
   "cell_type": "code",
   "execution_count": null,
   "metadata": {
    "collapsed": true
   },
   "outputs": [],
   "source": [
    "# get aliases\n",
    "\n",
    "def get_aliases(unit):\n",
    "    try:\n",
    "        ret = [unit[u'labels'][u'en'][u'value']]\n",
    "    except:\n",
    "        ret = [\"NONE_EN_LABEL\"]\n",
    "\n",
    "    try:\n",
    "        ret.extend([ele['value'] for ele in unit[u'aliases'][u'en']])\n",
    "    except:\n",
    "        pass\n",
    "    return ret"
   ]
  },
  {
   "cell_type": "code",
   "execution_count": null,
   "metadata": {
    "collapsed": true
   },
   "outputs": [],
   "source": [
    "def make_info(unit):\n",
    "    ret = {}\n",
    "    ret['ntr'] = num_type_relations(unit)\n",
    "    ret['nr'] = num_relations(unit)\n",
    "    ret['re'] = related_entities(unit)\n",
    "    ret['fb'] = get_freebase(unit)\n",
    "    ret['wk'] = get_wikititle(unit)\n",
    "    ret['aliases'] = get_aliases(unit)\n",
    "    return ret"
   ]
  },
  {
   "cell_type": "code",
   "execution_count": null,
   "metadata": {
    "collapsed": false
   },
   "outputs": [],
   "source": [
    "import json\n",
    "\n",
    "bar = pyprind.ProgBar(20951710, width = 70)\n",
    "\n",
    "with open(\"/Volumes/backup/ccg_tweet_wikifier_data/wikidata/entity_info.txt\", \"wb\") as g:\n",
    "    with open(\"/Volumes/backup/ccg_tweet_wikifier_data/wikidata/wikidata-20160404-all.json\", \"rb\") as f:\n",
    "        for line in f:\n",
    "            if len(line.strip()) <2:\n",
    "                continue\n",
    "            bar.update()\n",
    "            wiki_info = {}\n",
    "            j_content = json.loads(line.strip()[:-1])\n",
    "            ida = j_content[u'id']\n",
    "            wiki_info[ida] = make_info(j_content)\n",
    "            g.write(str(wiki_info))\n",
    "            g.write(\"\\n\")"
   ]
  },
  {
   "cell_type": "code",
   "execution_count": 4,
   "metadata": {
    "collapsed": true
   },
   "outputs": [],
   "source": [
    "entity_info_file = \"/Volumes/backup/ccg_tweet_wikifier_data/wikidata/entity_info.txt\" "
   ]
  },
  {
   "cell_type": "code",
   "execution_count": 5,
   "metadata": {
    "collapsed": false
   },
   "outputs": [
    {
     "name": "stderr",
     "output_type": "stream",
     "text": [
      "0%                                                                  100%\n",
      "[######################################################################] | ETA: 00:00:00"
     ]
    }
   ],
   "source": [
    "bar = pyprind.ProgBar(20951710, width = 70)\n",
    "\n",
    "entity_info = {}\n",
    "\n",
    "with open(entity_info_file, \"rb\") as f:\n",
    "    for line in f:\n",
    "        pline = line.strip()\n",
    "        bar.update()\n",
    "        \n",
    "        info = eval(pline)\n",
    "        entity_info.update(info)"
   ]
  },
  {
   "cell_type": "code",
   "execution_count": 6,
   "metadata": {
    "collapsed": false
   },
   "outputs": [
    {
     "data": {
      "text/plain": [
       "20951707"
      ]
     },
     "execution_count": 6,
     "metadata": {},
     "output_type": "execute_result"
    }
   ],
   "source": [
    "len(entity_info)"
   ]
  },
  {
   "cell_type": "code",
   "execution_count": 7,
   "metadata": {
    "collapsed": true
   },
   "outputs": [],
   "source": [
    "entity_info_json_output = \"/Volumes/backup/ccg_tweet_wikifier_data/wikidata/entity_info.json\" "
   ]
  },
  {
   "cell_type": "code",
   "execution_count": 8,
   "metadata": {
    "collapsed": false
   },
   "outputs": [
    {
     "ename": "NameError",
     "evalue": "name 'json' is not defined",
     "output_type": "error",
     "traceback": [
      "\u001b[0;31m---------------------------------------------------------------------------\u001b[0m",
      "\u001b[0;31mNameError\u001b[0m                                 Traceback (most recent call last)",
      "\u001b[0;32m<ipython-input-8-88a678ccf713>\u001b[0m in \u001b[0;36m<module>\u001b[0;34m()\u001b[0m\n\u001b[1;32m      1\u001b[0m \u001b[0;32mwith\u001b[0m \u001b[0mopen\u001b[0m\u001b[0;34m(\u001b[0m\u001b[0mentity_info_json_output\u001b[0m\u001b[0;34m,\u001b[0m \u001b[0;34m\"wb\"\u001b[0m\u001b[0;34m)\u001b[0m \u001b[0;32mas\u001b[0m \u001b[0mf\u001b[0m\u001b[0;34m:\u001b[0m\u001b[0;34m\u001b[0m\u001b[0m\n\u001b[0;32m----> 2\u001b[0;31m     \u001b[0mjson\u001b[0m\u001b[0;34m.\u001b[0m\u001b[0mdump\u001b[0m\u001b[0;34m(\u001b[0m\u001b[0mentity_info\u001b[0m\u001b[0;34m,\u001b[0m \u001b[0mf\u001b[0m\u001b[0;34m)\u001b[0m\u001b[0;34m\u001b[0m\u001b[0m\n\u001b[0m",
      "\u001b[0;31mNameError\u001b[0m: name 'json' is not defined"
     ]
    }
   ],
   "source": [
    "with open(entity_info_json_output, \"wb\") as f:\n",
    "    json.dump(entity_info, f)"
   ]
  },
  {
   "cell_type": "code",
   "execution_count": 9,
   "metadata": {
    "collapsed": true
   },
   "outputs": [],
   "source": [
    "import json"
   ]
  },
  {
   "cell_type": "code",
   "execution_count": null,
   "metadata": {
    "collapsed": true
   },
   "outputs": [],
   "source": [
    "with open(entity_info_json_output, \"wb\") as f:\n",
    "    json.dump(entity_info, f)"
   ]
  },
  {
   "cell_type": "code",
   "execution_count": null,
   "metadata": {
    "collapsed": true
   },
   "outputs": [],
   "source": []
  }
 ],
 "metadata": {
  "kernelspec": {
   "display_name": "Python 2",
   "language": "python",
   "name": "python2"
  },
  "language_info": {
   "codemirror_mode": {
    "name": "ipython",
    "version": 2
   },
   "file_extension": ".py",
   "mimetype": "text/x-python",
   "name": "python",
   "nbconvert_exporter": "python",
   "pygments_lexer": "ipython2",
   "version": "2.7.11"
  }
 },
 "nbformat": 4,
 "nbformat_minor": 0
}
