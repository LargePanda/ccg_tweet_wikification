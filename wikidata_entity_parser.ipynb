{
 "cells": [
  {
   "cell_type": "code",
   "execution_count": 1,
   "metadata": {
    "collapsed": true
   },
   "outputs": [],
   "source": [
    "import pickle\n",
    "import random\n",
    "import sys\n",
    "import pyprind"
   ]
  },
  {
   "cell_type": "markdown",
   "metadata": {},
   "source": [
    "## read from WikiData"
   ]
  },
  {
   "cell_type": "code",
   "execution_count": 2,
   "metadata": {
    "collapsed": false
   },
   "outputs": [],
   "source": [
    "# get number of relation types\n",
    "\n",
    "def num_type_relations(unit):\n",
    "    return len(unit['claims'])"
   ]
  },
  {
   "cell_type": "code",
   "execution_count": 3,
   "metadata": {
    "collapsed": true
   },
   "outputs": [],
   "source": [
    "# get number of relations\n",
    "\n",
    "def num_relations(unit):\n",
    "    counts = [len(m) for m in unit[\"claims\"]]\n",
    "    return sum(counts)"
   ]
  },
  {
   "cell_type": "code",
   "execution_count": 4,
   "metadata": {
    "collapsed": false
   },
   "outputs": [],
   "source": [
    "# get related entities\n",
    "\n",
    "def make_Q(src):\n",
    "    m = \"Q\"+ str(src)\n",
    "    return  m\n",
    "\n",
    "def related_entities(unit):\n",
    "    ret = []\n",
    "    for claim in unit['claims'].values():\n",
    "        # print claim\n",
    "        for single in claim:\n",
    "            try:\n",
    "                # print single[u'mainsnak'][u'datavalue'][u'value'][u'numeric-id']\n",
    "                ret.append(   make_Q(single[u'mainsnak'][u'datavalue'][u'value'][u'numeric-id'])   )\n",
    "            except:\n",
    "                pass\n",
    "    \n",
    "    return ret"
   ]
  },
  {
   "cell_type": "code",
   "execution_count": 5,
   "metadata": {
    "collapsed": false
   },
   "outputs": [],
   "source": [
    "# get freebase ID\n",
    "\n",
    "def get_freebase(unit):\n",
    "    ret = \"\"\n",
    "    try:\n",
    "        ret = unit['claims'][u'P646'][0][u'mainsnak'][u'datavalue']['value']\n",
    "    except:\n",
    "        ret = \"NONE_FREEBASE\"\n",
    "    return ret"
   ]
  },
  {
   "cell_type": "code",
   "execution_count": 6,
   "metadata": {
    "collapsed": true
   },
   "outputs": [],
   "source": [
    "# get wikipedia page\n",
    "\n",
    "def get_wikititle(unit):\n",
    "    ret = \"\"\n",
    "    try:\n",
    "        ret = unit['sitelinks']['enwiki']['title']\n",
    "    except:\n",
    "        ret = \"NONE_WIKITITLE\"\n",
    "    return ret"
   ]
  },
  {
   "cell_type": "code",
   "execution_count": 7,
   "metadata": {
    "collapsed": true
   },
   "outputs": [],
   "source": [
    "# get aliases\n",
    "\n",
    "def get_aliases(unit):\n",
    "    try:\n",
    "        ret = [unit[u'labels'][u'en'][u'value']]\n",
    "    except:\n",
    "        ret = [\"NONE_EN_LABEL\"]\n",
    "\n",
    "    try:\n",
    "        ret.extend([ele['value'] for ele in unit[u'aliases'][u'en']])\n",
    "    except:\n",
    "        pass\n",
    "    return ret"
   ]
  },
  {
   "cell_type": "code",
   "execution_count": 8,
   "metadata": {
    "collapsed": true
   },
   "outputs": [],
   "source": [
    "def make_info(unit):\n",
    "    ret = {}\n",
    "    ret['ntr'] = num_type_relations(unit)\n",
    "    ret['nr'] = num_relations(unit)\n",
    "    ret['re'] = related_entities(unit)\n",
    "    ret['fb'] = get_freebase(unit)\n",
    "    ret['wk'] = get_wikititle(unit)\n",
    "    ret['aliases'] = get_aliases(unit)\n",
    "    return ret"
   ]
  },
  {
   "cell_type": "code",
   "execution_count": null,
   "metadata": {
    "collapsed": false
   },
   "outputs": [
    {
     "name": "stderr",
     "output_type": "stream",
     "text": [
      "0%                                                                  100%\n",
      "[                                                                      ]"
     ]
    }
   ],
   "source": [
    "import json\n",
    "\n",
    "bar = pyprind.ProgBar(20951710, width = 70)\n",
    "\n",
    "with open(\"/Volumes/backup/ccg_tweet_wikifier_data/wikidata/entity_info.txt\", \"wb\") as g:\n",
    "    with open(\"/Volumes/backup/ccg_tweet_wikifier_data/wikidata/wikidata-20160404-all.json\", \"rb\") as f:\n",
    "        for line in f:\n",
    "            if len(line.strip()) <2:\n",
    "                continue\n",
    "            bar.update()\n",
    "            wiki_info = {}\n",
    "            j_content = json.loads(line.strip()[:-1])\n",
    "            ida = j_content[u'id']\n",
    "            wiki_info[ida] = make_info(j_content)\n",
    "            g.write(str(wiki_info))\n",
    "            g.write(\"\\n\")"
   ]
  },
  {
   "cell_type": "code",
   "execution_count": 17,
   "metadata": {
    "collapsed": false
   },
   "outputs": [
    {
     "data": {
      "text/plain": [
       "{u'language': u'en', u'value': u'Netherlands'}"
      ]
     },
     "execution_count": 17,
     "metadata": {},
     "output_type": "execute_result"
    }
   ],
   "source": [
    "j_content['labels']['en']"
   ]
  },
  {
   "cell_type": "code",
   "execution_count": null,
   "metadata": {
    "collapsed": false
   },
   "outputs": [],
   "source": [
    "with open(\"entity_info.txt\", \"rb\") as f:\n",
    "    for line in f:\n",
    "        j_content = json.loads(json.dumps(line.strip()))"
   ]
  },
  {
   "cell_type": "code",
   "execution_count": null,
   "metadata": {
    "collapsed": false
   },
   "outputs": [],
   "source": [
    "wiki_info"
   ]
  },
  {
   "cell_type": "code",
   "execution_count": null,
   "metadata": {
    "collapsed": false
   },
   "outputs": [],
   "source": [
    "lexicon = {}\n",
    "\n",
    "with open(\"lexicon_Entity-Surface.txt\", \"r\") as f: \n",
    "    for line in f:\n",
    "        segs = line.strip().split(\"\\t\")\n",
    "        id = segs[0]\n",
    "        if id is \"Q15031\":\n",
    "            print true\n",
    "        if len(segs) > 1:\n",
    "            if id[0] is \"Q\":\n",
    "                # it is an entity\n",
    "                for seg in segs[1:]:\n",
    "                    lexicon[seg] = []"
   ]
  },
  {
   "cell_type": "code",
   "execution_count": null,
   "metadata": {
    "collapsed": true
   },
   "outputs": [],
   "source": [
    "with open(\"lexicon_Entity-Surface.txt\", \"r\") as f: \n",
    "    for line in f:\n",
    "        segs = line.strip().split(\"\\t\")\n",
    "        id = segs[0]\n",
    "        if len(segs) > 1:\n",
    "            if id[0] is \"Q\":\n",
    "                # it is an entity\n",
    "                for seg in segs[1:]:\n",
    "                    lexicon[seg] = []"
   ]
  },
  {
   "cell_type": "code",
   "execution_count": null,
   "metadata": {
    "collapsed": false
   },
   "outputs": [],
   "source": [
    "\"Jinping Xi\" in lexicon.keys()"
   ]
  },
  {
   "cell_type": "code",
   "execution_count": null,
   "metadata": {
    "collapsed": false
   },
   "outputs": [],
   "source": [
    "import urllib\n",
    "\n",
    "link = \"http://www.wikidata.org/wiki/Special:EntityData/Q42.json\"\n",
    "f = urllib.urlopen(link)\n",
    "myfile = f.read()\n",
    "print myfile\n"
   ]
  },
  {
   "cell_type": "code",
   "execution_count": null,
   "metadata": {
    "collapsed": true
   },
   "outputs": [],
   "source": [
    "count = 0\n",
    "with open(\"/Volumes/backup/wikidata-20151228-all.json\", \"r\") as f:\n",
    "    for line in f:\n",
    "        count+=1\n",
    "        "
   ]
  },
  {
   "cell_type": "code",
   "execution_count": null,
   "metadata": {
    "collapsed": true
   },
   "outputs": [],
   "source": [
    "import json"
   ]
  },
  {
   "cell_type": "code",
   "execution_count": null,
   "metadata": {
    "collapsed": false
   },
   "outputs": [],
   "source": [
    "a = {1:2,\"r\":\"W\"}\n",
    "b = {1:2,\"r\":\"W\"}\n",
    "with open(\"dd\",\"w\") as f:\n",
    "    f.write(str(a))"
   ]
  },
  {
   "cell_type": "code",
   "execution_count": null,
   "metadata": {
    "collapsed": false
   },
   "outputs": [],
   "source": [
    "str(a)"
   ]
  },
  {
   "cell_type": "code",
   "execution_count": null,
   "metadata": {
    "collapsed": true
   },
   "outputs": [],
   "source": [
    "with open(\"entity_info.txt\", \"rb\") as f:\n",
    "    for line in f:\n",
    "        "
   ]
  }
 ],
 "metadata": {
  "kernelspec": {
   "display_name": "Python 2",
   "language": "python",
   "name": "python2"
  },
  "language_info": {
   "codemirror_mode": {
    "name": "ipython",
    "version": 2
   },
   "file_extension": ".py",
   "mimetype": "text/x-python",
   "name": "python",
   "nbconvert_exporter": "python",
   "pygments_lexer": "ipython2",
   "version": "2.7.11"
  }
 },
 "nbformat": 4,
 "nbformat_minor": 0
}
