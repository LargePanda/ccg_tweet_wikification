{
 "cells": [
  {
   "cell_type": "code",
   "execution_count": 1,
   "metadata": {
    "collapsed": true
   },
   "outputs": [],
   "source": [
    "import pickle\n",
    "import random\n",
    "import sys\n",
    "import pyprind"
   ]
  },
  {
   "cell_type": "markdown",
   "metadata": {},
   "source": [
    "## read from WikiData"
   ]
  },
  {
   "cell_type": "code",
   "execution_count": null,
   "metadata": {
    "collapsed": false
   },
   "outputs": [],
   "source": [
    "# get number of relation types\n",
    "\n",
    "def num_type_relations(unit):\n",
    "    return len(unit['claims'])"
   ]
  },
  {
   "cell_type": "code",
   "execution_count": null,
   "metadata": {
    "collapsed": true
   },
   "outputs": [],
   "source": [
    "# get number of relations\n",
    "\n",
    "def num_relations(unit):\n",
    "    counts = [len(m) for m in unit[\"claims\"]]\n",
    "    return sum(counts)"
   ]
  },
  {
   "cell_type": "code",
   "execution_count": null,
   "metadata": {
    "collapsed": false
   },
   "outputs": [],
   "source": [
    "# get related entities\n",
    "\n",
    "def make_Q(src):\n",
    "    m = \"Q\"+ str(src)\n",
    "    return  m\n",
    "\n",
    "def related_entities(unit):\n",
    "    ret = []\n",
    "    for claim in unit['claims'].values():\n",
    "        # print claim\n",
    "        for single in claim:\n",
    "            try:\n",
    "                # print single[u'mainsnak'][u'datavalue'][u'value'][u'numeric-id']\n",
    "                ret.append(   make_Q(single[u'mainsnak'][u'datavalue'][u'value'][u'numeric-id'])   )\n",
    "            except:\n",
    "                pass\n",
    "    \n",
    "    return ret"
   ]
  },
  {
   "cell_type": "code",
   "execution_count": null,
   "metadata": {
    "collapsed": false
   },
   "outputs": [],
   "source": [
    "# get freebase ID\n",
    "\n",
    "def get_freebase(unit):\n",
    "    ret = \"\"\n",
    "    try:\n",
    "        ret = unit['claims'][u'P646'][0][u'mainsnak'][u'datavalue']['value']\n",
    "    except:\n",
    "        ret = \"NONE_FREEBASE\"\n",
    "    return ret"
   ]
  },
  {
   "cell_type": "code",
   "execution_count": null,
   "metadata": {
    "collapsed": true
   },
   "outputs": [],
   "source": [
    "# get wikipedia page\n",
    "\n",
    "def get_wikititle(unit):\n",
    "    ret = \"\"\n",
    "    try:\n",
    "        ret = unit['sitelinks']['enwiki']['title']\n",
    "    except:\n",
    "        ret = \"NONE_WIKITITLE\"\n",
    "    return ret"
   ]
  },
  {
   "cell_type": "code",
   "execution_count": null,
   "metadata": {
    "collapsed": true
   },
   "outputs": [],
   "source": [
    "# get aliases\n",
    "\n",
    "def get_aliases(unit):\n",
    "    try:\n",
    "        ret = [unit[u'labels'][u'en'][u'value']]\n",
    "    except:\n",
    "        ret = [\"NONE_EN_LABEL\"]\n",
    "\n",
    "    try:\n",
    "        ret.extend([ele['value'] for ele in unit[u'aliases'][u'en']])\n",
    "    except:\n",
    "        pass\n",
    "    return ret"
   ]
  },
  {
   "cell_type": "code",
   "execution_count": null,
   "metadata": {
    "collapsed": true
   },
   "outputs": [],
   "source": [
    "def make_info(unit):\n",
    "    ret = {}\n",
    "    ret['ntr'] = num_type_relations(unit)\n",
    "    ret['nr'] = num_relations(unit)\n",
    "    ret['re'] = related_entities(unit)\n",
    "    ret['fb'] = get_freebase(unit)\n",
    "    ret['wk'] = get_wikititle(unit)\n",
    "    ret['aliases'] = get_aliases(unit)\n",
    "    return ret"
   ]
  },
  {
   "cell_type": "code",
   "execution_count": null,
   "metadata": {
    "collapsed": false
   },
   "outputs": [],
   "source": [
    "import json\n",
    "\n",
    "bar = pyprind.ProgBar(20951710, width = 70)\n",
    "\n",
    "with open(\"/Volumes/backup/ccg_tweet_wikifier_data/wikidata/entity_info.txt\", \"wb\") as g:\n",
    "    with open(\"/Volumes/backup/ccg_tweet_wikifier_data/wikidata/wikidata-20160404-all.json\", \"rb\") as f:\n",
    "        for line in f:\n",
    "            if len(line.strip()) <2:\n",
    "                continue\n",
    "            bar.update()\n",
    "            wiki_info = {}\n",
    "            j_content = json.loads(line.strip()[:-1])\n",
    "            ida = j_content[u'id']\n",
    "            wiki_info[ida] = make_info(j_content)\n",
    "            g.write(str(wiki_info))\n",
    "            g.write(\"\\n\")"
   ]
  },
  {
   "cell_type": "code",
   "execution_count": 20,
   "metadata": {
    "collapsed": true
   },
   "outputs": [],
   "source": [
    "entity_info_file = \"/Volumes/backup/ccg_tweet_wikifier_data/wikidata/entity_info.txt\" "
   ]
  },
  {
   "cell_type": "code",
   "execution_count": 21,
   "metadata": {
    "collapsed": false
   },
   "outputs": [
    {
     "name": "stderr",
     "output_type": "stream",
     "text": [
      "0%                                                                  100%\n",
      "[######################################################################] | ETA: 00:00:00"
     ]
    }
   ],
   "source": [
    "bar = pyprind.ProgBar(20951710, width = 70)\n",
    "\n",
    "entity_info = {}\n",
    "\n",
    "with open(entity_info_file, \"rb\") as f:\n",
    "    for line in f:\n",
    "        pline = line.strip()\n",
    "        bar.update()\n",
    "        \n",
    "        info = eval(pline)\n",
    "        entity_info.update(info)"
   ]
  },
  {
   "cell_type": "code",
   "execution_count": 22,
   "metadata": {
    "collapsed": false
   },
   "outputs": [
    {
     "data": {
      "text/plain": [
       "20951707"
      ]
     },
     "execution_count": 22,
     "metadata": {},
     "output_type": "execute_result"
    }
   ],
   "source": [
    "len(entity_info)"
   ]
  },
  {
   "cell_type": "code",
   "execution_count": 23,
   "metadata": {
    "collapsed": true
   },
   "outputs": [],
   "source": [
    "from sqlitedict import SqliteDict\n",
    "mydict = SqliteDict('./wikidata_small.sqlite', autocommit=True)"
   ]
  },
  {
   "cell_type": "code",
   "execution_count": null,
   "metadata": {
    "collapsed": true
   },
   "outputs": [],
   "source": [
    "bar = pyprind.ProgBar(20951710, width = 70)\n",
    "\n",
    "for key in entity_info.keys():\n",
    "    bar.update()\n",
    "    mydict[key] = entity_info"
   ]
  },
  {
   "cell_type": "code",
   "execution_count": null,
   "metadata": {
    "collapsed": true
   },
   "outputs": [],
   "source": [
    "entity_info_json_output = \"/Volumes/backup/ccg_tweet_wikifier_data/wikidata/entity_info.json\" "
   ]
  },
  {
   "cell_type": "code",
   "execution_count": null,
   "metadata": {
    "collapsed": false
   },
   "outputs": [],
   "source": [
    "with open(entity_info_json_output, \"wb\") as f:\n",
    "    json.dump(entity_info, f)"
   ]
  },
  {
   "cell_type": "code",
   "execution_count": null,
   "metadata": {
    "collapsed": true
   },
   "outputs": [],
   "source": [
    "import json"
   ]
  },
  {
   "cell_type": "code",
   "execution_count": null,
   "metadata": {
    "collapsed": false
   },
   "outputs": [],
   "source": [
    "with open(entity_info_json_output, \"wb\") as f:\n",
    "    json.dump(entity_info, f)"
   ]
  },
  {
   "cell_type": "code",
   "execution_count": null,
   "metadata": {
    "collapsed": false
   },
   "outputs": [],
   "source": [
    "import requests\n",
    "from bs4 import BeautifulSoup\n",
    "import json\n",
    "\n",
    "\n",
    "def get_dbpedia_info(uri, linkWikipedia):\n",
    "    print uri + ', ' + linkWikipedia\n",
    "\n",
    "session = requests.Session()\n",
    "\n",
    "graph = 'http://dbpedia.org'\n",
    "query = 'DESCRIBE <http://dbpedia.org/resource/Jdddeb_Bush,_Jr.>'\n",
    "format = 'application/json'\n",
    "\n",
    "\n",
    "response = session.get('http://dbpedia.org/sparql', params={'default-graph-uri': graph, 'query': query, 'format': format})\n",
    "print json.loads(response.text)\n",
    "#get_info(line, response[line]['http://xmlns.com/foaf/0.1/isPrimaryTopicOf'][0]['value'])"
   ]
  },
  {
   "cell_type": "code",
   "execution_count": null,
   "metadata": {
    "collapsed": false
   },
   "outputs": [],
   "source": [
    "response.content"
   ]
  },
  {
   "cell_type": "code",
   "execution_count": null,
   "metadata": {
    "collapsed": false
   },
   "outputs": [],
   "source": [
    "p = response.json()"
   ]
  },
  {
   "cell_type": "code",
   "execution_count": null,
   "metadata": {
    "collapsed": false
   },
   "outputs": [],
   "source": [
    "len(p)"
   ]
  },
  {
   "cell_type": "code",
   "execution_count": 2,
   "metadata": {
    "collapsed": false
   },
   "outputs": [],
   "source": [
    "sys.path.append(\"/Users/erichsu/Documents/research/WikiNLP/wikinlp/\")"
   ]
  },
  {
   "cell_type": "code",
   "execution_count": null,
   "metadata": {
    "collapsed": true
   },
   "outputs": [],
   "source": [
    "from WikiNLP import WikiNLP"
   ]
  },
  {
   "cell_type": "code",
   "execution_count": 3,
   "metadata": {
    "collapsed": true
   },
   "outputs": [],
   "source": [
    "import DBpedia"
   ]
  },
  {
   "cell_type": "code",
   "execution_count": 5,
   "metadata": {
    "collapsed": true
   },
   "outputs": [],
   "source": [
    "op = DBpedia.DBpedia_BOT()"
   ]
  },
  {
   "cell_type": "code",
   "execution_count": 6,
   "metadata": {
    "collapsed": false
   },
   "outputs": [],
   "source": [
    "m = op.query_entity(\"Jeb_Bush\")"
   ]
  },
  {
   "cell_type": "code",
   "execution_count": 16,
   "metadata": {
    "collapsed": false
   },
   "outputs": [
    {
     "name": "stdout",
     "output_type": "stream",
     "text": [
      "1460828357.41\n",
      "1460828357.52\n"
     ]
    }
   ],
   "source": [
    "import time\n",
    "print time.time()\n",
    "op.query_entity(\"Jebdsad_Bush\")\n",
    "print time.time()"
   ]
  },
  {
   "cell_type": "code",
   "execution_count": 17,
   "metadata": {
    "collapsed": false
   },
   "outputs": [
    {
     "ename": "TypeError",
     "evalue": "'module' object is not callable",
     "output_type": "error",
     "traceback": [
      "\u001b[0;31m---------------------------------------------------------------------------\u001b[0m",
      "\u001b[0;31mTypeError\u001b[0m                                 Traceback (most recent call last)",
      "\u001b[0;32m<ipython-input-17-1000bf0f2381>\u001b[0m in \u001b[0;36m<module>\u001b[0;34m()\u001b[0m\n\u001b[0;32m----> 1\u001b[0;31m \u001b[0mtime\u001b[0m\u001b[0;34m(\u001b[0m\u001b[0mm\u001b[0m\u001b[0;34m)\u001b[0m\u001b[0;34m\u001b[0m\u001b[0m\n\u001b[0m",
      "\u001b[0;31mTypeError\u001b[0m: 'module' object is not callable"
     ]
    }
   ],
   "source": [
    "time(m)"
   ]
  },
  {
   "cell_type": "code",
   "execution_count": 19,
   "metadata": {
    "collapsed": false
   },
   "outputs": [
    {
     "data": {
      "text/plain": [
       "23.14814814814815"
      ]
     },
     "execution_count": 19,
     "metadata": {},
     "output_type": "execute_result"
    }
   ],
   "source": [
    "0.1*20000000/60/60/24"
   ]
  },
  {
   "cell_type": "code",
   "execution_count": null,
   "metadata": {
    "collapsed": true
   },
   "outputs": [],
   "source": []
  }
 ],
 "metadata": {
  "kernelspec": {
   "display_name": "Python 2",
   "language": "python",
   "name": "python2"
  },
  "language_info": {
   "codemirror_mode": {
    "name": "ipython",
    "version": 2
   },
   "file_extension": ".py",
   "mimetype": "text/x-python",
   "name": "python",
   "nbconvert_exporter": "python",
   "pygments_lexer": "ipython2",
   "version": "2.7.11"
  }
 },
 "nbformat": 4,
 "nbformat_minor": 0
}
