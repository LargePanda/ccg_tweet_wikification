{
 "cells": [
  {
   "cell_type": "markdown",
   "metadata": {},
   "source": [
    " <h1 align=\"center\">Data Preparation</h1> \n",
    " <h4 align=\"center\">Jiarui Xu - jxu57@illinois.edu</h4> "
   ]
  },
  {
   "cell_type": "code",
   "execution_count": 21,
   "metadata": {
    "collapsed": false
   },
   "outputs": [],
   "source": [
    "import pyprind\n",
    "import sys\n",
    "import pickle"
   ]
  },
  {
   "cell_type": "code",
   "execution_count": 22,
   "metadata": {
    "collapsed": true
   },
   "outputs": [],
   "source": [
    "data_folder = \"/Volumes/backup/ccg_tweet_wikifier_data/\""
   ]
  },
  {
   "cell_type": "markdown",
   "metadata": {},
   "source": [
    "## 1. Acquire Tweets"
   ]
  },
  {
   "cell_type": "markdown",
   "metadata": {},
   "source": [
    "### a. Set Twitter API"
   ]
  },
  {
   "cell_type": "code",
   "execution_count": 5,
   "metadata": {
    "collapsed": true
   },
   "outputs": [],
   "source": [
    "# Set API keys\n",
    "consumer_key = 'FTglCRcahFJxH3U0TVoakD3BS'\n",
    "consumer_secret = 'BoNfyAic70hWkmH6jIzr4xoE48iFyIRnqvwE4NjSwpfJVwD7N2'\n",
    "access_token = '3081709104-XeNjGf7h9l6G1ERuPE1l9KOX85XJcWMBflWd1P8'\n",
    "access_token_secret = '9Z1czrN0jU4hs08KtxE7IeIcjNWAd1LbWqblvyvzJoRfN'"
   ]
  },
  {
   "cell_type": "code",
   "execution_count": 7,
   "metadata": {
    "collapsed": false
   },
   "outputs": [],
   "source": [
    "# Set up API\n",
    "import tweepy\n",
    "\n",
    "auth = tweepy.OAuthHandler(consumer_key, consumer_secret)\n",
    "auth.set_access_token(access_token, access_token_secret)\n",
    "\n",
    "api = tweepy.API(auth, wait_on_rate_limit=True)"
   ]
  },
  {
   "cell_type": "markdown",
   "metadata": {},
   "source": [
    "### b. Load File"
   ]
  },
  {
   "cell_type": "markdown",
   "metadata": {},
   "source": [
    "label-trainDev.tsv -- train split of NEEL [2] dataset    \n",
    "label-train.tsv -- train split of label-trainDev.tsv used in this paper (used for parameter tuning)    \n",
    "label-dev.tsv -- dev split of label-trainDev.tsv used in this paper (used for parameter tuning)    \n",
    "label-test.tsv -- test split of NEEL [2] dataset    "
   ]
  },
  {
   "cell_type": "code",
   "execution_count": 9,
   "metadata": {
    "collapsed": true
   },
   "outputs": [],
   "source": [
    "file_list = [\"label-trainDev.tsv\", \"label-train.tsv\", \"label-dev.tsv\", \"label-test.tsv\"]"
   ]
  },
  {
   "cell_type": "markdown",
   "metadata": {},
   "source": [
    "Get a set of unique tweet ids"
   ]
  },
  {
   "cell_type": "code",
   "execution_count": 12,
   "metadata": {
    "collapsed": false
   },
   "outputs": [],
   "source": [
    "tweet_ids = set()\n",
    "for file_name in file_list:\n",
    "    with open (\"./data/v1-NEELOnly/\" + file_name, \"r\") as f:\n",
    "        for line in f:\n",
    "            segs = line.split(\"\\t\")\n",
    "            tweet_id = segs[0]\n",
    "            tweet_ids.add(tweet_id)"
   ]
  },
  {
   "cell_type": "markdown",
   "metadata": {},
   "source": [
    "### c. Retrieve Tweets using API"
   ]
  },
  {
   "cell_type": "markdown",
   "metadata": {},
   "source": [
    "Define a function to retrieve tweets"
   ]
  },
  {
   "cell_type": "code",
   "execution_count": 16,
   "metadata": {
    "collapsed": true
   },
   "outputs": [],
   "source": [
    "def fill_tweet_set(id_list):\n",
    "    # set up progress bar\n",
    "    bar = pyprind.ProgBar(len(id_list))\n",
    "    \n",
    "    tweet_set = {}\n",
    "    failed = {}\n",
    "    \n",
    "    for id in id_list:\n",
    "        bar.update()\n",
    "        \n",
    "        try:\n",
    "            tweet_set[id] = api.get_status(id,)._json\n",
    "        except:\n",
    "            failed[id] = sys.exc_info()[0]\n",
    "    \n",
    "    return (tweet_set, failed)"
   ]
  },
  {
   "cell_type": "code",
   "execution_count": 19,
   "metadata": {
    "collapsed": false
   },
   "outputs": [
    {
     "name": "stderr",
     "output_type": "stream",
     "text": [
      "0%                          100%\n",
      "[##############################] | ETA: 00:00:00\n",
      "Total time elapsed: 02:01:23\n"
     ]
    }
   ],
   "source": [
    "result = fill_tweet_set(tweet_ids)"
   ]
  },
  {
   "cell_type": "markdown",
   "metadata": {},
   "source": [
    "save the tweet set to file"
   ]
  },
  {
   "cell_type": "code",
   "execution_count": 46,
   "metadata": {
    "collapsed": false
   },
   "outputs": [],
   "source": [
    "tweet_corpus = {}\n",
    "\n",
    "for tweet_id in result[0].keys():\n",
    "    tweet_corpus[tweet_id] = {}\n",
    "    tweet_corpus[tweet_id]['tweet_info'] = result[0][tweet_id]\n",
    "\n",
    "with open(data_folder+\"Tweet/NEEL_tweets(raw).pickle\", \"wb\") as f:\n",
    "    pickle.dump(tweet_corpus, f)"
   ]
  },
  {
   "cell_type": "markdown",
   "metadata": {},
   "source": [
    "A sample tweet object in json"
   ]
  },
  {
   "cell_type": "code",
   "execution_count": 47,
   "metadata": {
    "collapsed": false,
    "scrolled": true
   },
   "outputs": [
    {
     "data": {
      "text/plain": [
       "{'tweet_info': {u'contributors': None,\n",
       "  u'coordinates': None,\n",
       "  u'created_at': u'Tue Jul 19 13:41:44 +0000 2011',\n",
       "  u'entities': {u'hashtags': [],\n",
       "   u'symbols': [],\n",
       "   u'urls': [],\n",
       "   u'user_mentions': []},\n",
       "  u'favorite_count': 2,\n",
       "  u'favorited': False,\n",
       "  u'geo': None,\n",
       "  'goldens': [{'end_idx': '10',\n",
       "    'freebase_title': '/m/02_nkp',\n",
       "    'mention': 'Lamar Odom',\n",
       "    'start_idx': '0',\n",
       "    'tid': '93314579924393984',\n",
       "    'wiki_title': 'Lamar_Odom'}],\n",
       "  u'id': 93314579924393984,\n",
       "  u'id_str': u'93314579924393984',\n",
       "  u'in_reply_to_screen_name': None,\n",
       "  u'in_reply_to_status_id': None,\n",
       "  u'in_reply_to_status_id_str': None,\n",
       "  u'in_reply_to_user_id': None,\n",
       "  u'in_reply_to_user_id_str': None,\n",
       "  u'is_quote_status': False,\n",
       "  u'lang': u'en',\n",
       "  u'place': None,\n",
       "  u'retweet_count': 33,\n",
       "  u'retweeted': False,\n",
       "  u'source': u'<a href=\"https://about.twitter.com/products/tweetdeck\" rel=\"nofollow\">TweetDeck</a>',\n",
       "  u'text': u\"Lamar Odom's Car Accident Claims Life Of A 15 Year Old Boy http://on.vh1.com/pJObAI\",\n",
       "  u'truncated': False,\n",
       "  u'user': {u'contributors_enabled': False,\n",
       "   u'created_at': u'Thu Jun 12 18:51:58 +0000 2008',\n",
       "   u'default_profile': False,\n",
       "   u'default_profile_image': False,\n",
       "   u'description': u'So many celebrities, so little time! http://t.co/iWMxyZrTVY Instagram: @VH1Celebrity',\n",
       "   u'entities': {u'description': {u'urls': [{u'display_url': u'facebook.com/VH1Celebrity',\n",
       "       u'expanded_url': u'http://www.facebook.com/VH1Celebrity',\n",
       "       u'indices': [37, 59],\n",
       "       u'url': u'http://t.co/iWMxyZrTVY'}]},\n",
       "    u'url': {u'urls': [{u'display_url': u'vh1.com/news/celebrity/',\n",
       "       u'expanded_url': u'http://www.vh1.com/news/celebrity/',\n",
       "       u'indices': [0, 22],\n",
       "       u'url': u'http://t.co/taTl1sYDPi'}]}},\n",
       "   u'favourites_count': 365,\n",
       "   u'follow_request_sent': False,\n",
       "   u'followers_count': 43676,\n",
       "   u'following': False,\n",
       "   u'friends_count': 2072,\n",
       "   u'geo_enabled': False,\n",
       "   u'has_extended_profile': False,\n",
       "   u'id': 15099721,\n",
       "   u'id_str': u'15099721',\n",
       "   u'is_translation_enabled': False,\n",
       "   u'is_translator': False,\n",
       "   u'lang': u'en',\n",
       "   u'listed_count': 530,\n",
       "   u'location': u'NEW YORK BABY!',\n",
       "   u'name': u'VH1 Celebrity',\n",
       "   u'notifications': False,\n",
       "   u'profile_background_color': u'000000',\n",
       "   u'profile_background_image_url': u'http://abs.twimg.com/images/themes/theme14/bg.gif',\n",
       "   u'profile_background_image_url_https': u'https://abs.twimg.com/images/themes/theme14/bg.gif',\n",
       "   u'profile_background_tile': False,\n",
       "   u'profile_banner_url': u'https://pbs.twimg.com/profile_banners/15099721/1400180247',\n",
       "   u'profile_image_url': u'http://pbs.twimg.com/profile_images/464086683810402304/rmeVwN8f_normal.png',\n",
       "   u'profile_image_url_https': u'https://pbs.twimg.com/profile_images/464086683810402304/rmeVwN8f_normal.png',\n",
       "   u'profile_link_color': u'DD2E44',\n",
       "   u'profile_sidebar_border_color': u'000000',\n",
       "   u'profile_sidebar_fill_color': u'000000',\n",
       "   u'profile_text_color': u'000000',\n",
       "   u'profile_use_background_image': False,\n",
       "   u'protected': False,\n",
       "   u'screen_name': u'VH1Celebrity',\n",
       "   u'statuses_count': 26321,\n",
       "   u'time_zone': u'Quito',\n",
       "   u'url': u'http://t.co/taTl1sYDPi',\n",
       "   u'utc_offset': -18000,\n",
       "   u'verified': True}}}"
      ]
     },
     "execution_count": 47,
     "metadata": {},
     "output_type": "execute_result"
    }
   ],
   "source": [
    "tweet_corpus['93314579924393984']"
   ]
  },
  {
   "cell_type": "markdown",
   "metadata": {},
   "source": [
    "# 2. Load Golden Standard"
   ]
  },
  {
   "cell_type": "code",
   "execution_count": 48,
   "metadata": {
    "collapsed": true
   },
   "outputs": [],
   "source": [
    "def golden_generator(tid, s_idx, e_idx, wiki_title, freebase, mention):\n",
    "    ret = {}\n",
    "    ret['tid'] = tid\n",
    "    ret['start_idx'] = s_idx\n",
    "    ret['end_idx'] = e_idx\n",
    "    ret['wiki_title'] = wiki_title\n",
    "    ret['freebase_title'] = freebase\n",
    "    ret['mention'] = mention\n",
    "    return ret"
   ]
  },
  {
   "cell_type": "code",
   "execution_count": 49,
   "metadata": {
    "collapsed": false
   },
   "outputs": [],
   "source": [
    "def golden_standard(file_list, tweet_corpus):\n",
    "    unique_lines= set()\n",
    "    \n",
    "    for file_name in file_list: \n",
    "        with open (\"./data/v1-NEELOnly/\" + file_name, \"r\") as f:\n",
    "            for line in f:\n",
    "                unique_lines.add(line.strip())\n",
    "    \n",
    "    for tw in tweet_corpus.values():\n",
    "        tw['goldens'] = []\n",
    "        \n",
    "    for line in unique_lines:\n",
    "        segments = line.strip().split(\"\\t\")\n",
    "        tid = segments[0]\n",
    "        if tid in tweet_corpus:\n",
    "            golden = golden_generator(segments[0], segments[1], segments[2],\\\n",
    "                                        segments[3], segments[4], segments[5])\n",
    "            tweet_corpus[tid]['goldens'].append(golden)"
   ]
  },
  {
   "cell_type": "markdown",
   "metadata": {},
   "source": [
    "Now loading ..."
   ]
  },
  {
   "cell_type": "code",
   "execution_count": 50,
   "metadata": {
    "collapsed": false
   },
   "outputs": [],
   "source": [
    "golden_standard(file_list, tweet_corpus)"
   ]
  },
  {
   "cell_type": "markdown",
   "metadata": {},
   "source": [
    "This is an example of golden standard"
   ]
  },
  {
   "cell_type": "code",
   "execution_count": 53,
   "metadata": {
    "collapsed": false
   },
   "outputs": [
    {
     "data": {
      "text/plain": [
       "[{'end_idx': '10',\n",
       "  'freebase_title': '/m/02_nkp',\n",
       "  'mention': 'Lamar Odom',\n",
       "  'start_idx': '0',\n",
       "  'tid': '93314579924393984',\n",
       "  'wiki_title': 'Lamar_Odom'}]"
      ]
     },
     "execution_count": 53,
     "metadata": {},
     "output_type": "execute_result"
    }
   ],
   "source": [
    "tweet_corpus['93314579924393984']['goldens']"
   ]
  },
  {
   "cell_type": "markdown",
   "metadata": {},
   "source": [
    "# 3. Extracting Twitter's Special Information"
   ]
  },
  {
   "cell_type": "markdown",
   "metadata": {},
   "source": [
    "https://support.twitter.com/articles/166337"
   ]
  },
  {
   "cell_type": "markdown",
   "metadata": {},
   "source": [
    "### a. Hashtag"
   ]
  },
  {
   "cell_type": "code",
   "execution_count": null,
   "metadata": {
    "collapsed": true
   },
   "outputs": [],
   "source": [
    "for tw in tweet_corpus"
   ]
  },
  {
   "cell_type": "code",
   "execution_count": null,
   "metadata": {
    "collapsed": true
   },
   "outputs": [],
   "source": [
    "def make_hashtag_mapping(tw_id):\n",
    "    ret = {}\n",
    "    for tag in tw_corpus[tw_id]['tweet_info']['entities']['hashtags']:\n",
    "        ret[tag['text']] = tag\n",
    "    return ret"
   ]
  },
  {
   "cell_type": "markdown",
   "metadata": {},
   "source": [
    "### b. Mention"
   ]
  },
  {
   "cell_type": "markdown",
   "metadata": {},
   "source": [
    "### c. Cashtag"
   ]
  },
  {
   "cell_type": "markdown",
   "metadata": {},
   "source": [
    "### d. URL"
   ]
  },
  {
   "cell_type": "code",
   "execution_count": null,
   "metadata": {
    "collapsed": true
   },
   "outputs": [],
   "source": []
  }
 ],
 "metadata": {
  "kernelspec": {
   "display_name": "Python 2",
   "language": "python",
   "name": "python2"
  },
  "language_info": {
   "codemirror_mode": {
    "name": "ipython",
    "version": 2
   },
   "file_extension": ".py",
   "mimetype": "text/x-python",
   "name": "python",
   "nbconvert_exporter": "python",
   "pygments_lexer": "ipython2",
   "version": "2.7.11"
  }
 },
 "nbformat": 4,
 "nbformat_minor": 0
}
