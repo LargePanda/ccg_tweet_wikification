{
 "cells": [
  {
   "cell_type": "markdown",
   "metadata": {},
   "source": [
    "<h1 align=\"center\">Candidate Generation</h1> \n",
    "<h4 align=\"center\">Jiarui Xu - jxu57@illinois.edu</h4> "
   ]
  },
  {
   "cell_type": "code",
   "execution_count": 20,
   "metadata": {
    "collapsed": true
   },
   "outputs": [],
   "source": [
    "import json\n",
    "import pyprind"
   ]
  },
  {
   "cell_type": "code",
   "execution_count": 16,
   "metadata": {
    "collapsed": true
   },
   "outputs": [],
   "source": [
    "data_folder = \"/Volumes/backup/ccg_tweet_wikifier_data/\"\n",
    "wikidata_file = data_folder + \"wikidata/wikidata-20160307-all.json\""
   ]
  },
  {
   "cell_type": "markdown",
   "metadata": {},
   "source": [
    "# 1. Load Wikidata json file"
   ]
  },
  {
   "cell_type": "code",
   "execution_count": 13,
   "metadata": {
    "collapsed": true
   },
   "outputs": [],
   "source": [
    "def join_by_tab(dic):\n",
    "    val = \"\"\n",
    "    val += dic.keys()[0]\n",
    "    val += \"\\t\"\n",
    "    val += \"\\t\".join(dic.values()[0])\n",
    "    val += \"\\n\"\n",
    "    return val"
   ]
  },
  {
   "cell_type": "code",
   "execution_count": null,
   "metadata": {
    "collapsed": true
   },
   "outputs": [],
   "source": [
    "def find_en_aliases(entity):\n",
    "    \n",
    "    ret = {}\n",
    "    entity_id = entity[u'id']\n",
    "    \n",
    "    try:\n",
    "        ret[entity_id= [entity[u'labels'][u'en'][u'value']]\n",
    "    except:\n",
    "        ret[j_content[u'id']] = [\"NONE_EN_LABEL\"]\n",
    "    \n",
    "    try:\n",
    "        ret[j_content[u'id']].extend([element['value'] for element in entity[u'aliases'][u'en']])\n",
    "    except:\n",
    "        pass\n",
    "    \n",
    "    return ret"
   ]
  },
  {
   "cell_type": "code",
   "execution_count": null,
   "metadata": {
    "collapsed": true
   },
   "outputs": [],
   "source": [
    "def load_wikidata(wikidata_file):\n",
    "    \n",
    "    # for progress bar\n",
    "    line_count = 20301275\n",
    "    bar = pyprind.ProgBar(line_count)\n",
    "    \n",
    "    with open(data_folder+\"wikidata/entity_alias.txt\", \"w\") as g:\n",
    "        with open(wikidata_file, \"rb\") as f:\n",
    "            for line in f:\n",
    "                bar.update()\n",
    "                try:\n",
    "                    entity_content = json.loads(line.strip()[:-1])\n",
    "                    l = subs(find_en_aliases(j_content))\n",
    "                    g.write(l.encode('utf8'))\n",
    "                except:"
   ]
  },
  {
   "cell_type": "code",
   "execution_count": 21,
   "metadata": {
    "collapsed": false
   },
   "outputs": [
    {
     "name": "stdout",
     "output_type": "stream",
     "text": [
      "Q1\tuniverse\tcosmos\tThe Universe\texistence\tspace\touterspace\n",
      "\n",
      "Q8\thappiness\n",
      "\n",
      "P16\thighway system\n",
      "\n",
      "P19\tplace of birth\tbirthplace\tborn in\tPOB\tbirth place\tlocation born\tborn at\tbirth location\tlocation of birth\n",
      "\n",
      "P22\tfather\tdad\tson of\thas father\tdaughter of\tchild of\n",
      "\n",
      "Q23\tGeorge Washington\n",
      "\n",
      "Q24\tJack Bauer\n",
      "\n",
      "Q31\tBelgium\tKingdom of Belgium\tbe\n",
      "\n",
      "P31\tinstance of\tis a\tis an\trdf:type\n",
      "\n"
     ]
    }
   ],
   "source": [
    "count = 0\n",
    "with open(data_folder+\"wikidata/entity_alias.txt\", \"w\") as g:\n",
    "    with open(wikidata_file, \"rb\") as f:\n",
    "        \n",
    "        for line in f:\n",
    "            if count == 0:\n",
    "                count+=1\n",
    "                continue\n",
    "            count +=1\n",
    "            if count >10:\n",
    "                break\n",
    "            j_content = json.loads(line.strip()[:-1])\n",
    "            l = join_by_tab(find_en_aliases(j_content))\n",
    "            print l"
   ]
  },
  {
   "cell_type": "code",
   "execution_count": 11,
   "metadata": {
    "collapsed": true
   },
   "outputs": [],
   "source": [
    "def find_en_aliases(j_content):\n",
    "    lexi = {}\n",
    "    \n",
    "    try:\n",
    "        lexi[j_content[u'id']]= [j_content[u'labels'][u'en'][u'value']]\n",
    "    except:\n",
    "        lexi[j_content[u'id']] = [\"NONE_EN_LABEL\"]\n",
    "    \n",
    "    try:\n",
    "        lexi[j_content[u'id']].extend([ele['value'] for ele in j_content[u'aliases'][u'en']])\n",
    "    except:\n",
    "        pass\n",
    "    \n",
    "    return lexi"
   ]
  },
  {
   "cell_type": "code",
   "execution_count": null,
   "metadata": {
    "collapsed": true
   },
   "outputs": [],
   "source": []
  }
 ],
 "metadata": {
  "kernelspec": {
   "display_name": "Python 2",
   "language": "python",
   "name": "python2"
  },
  "language_info": {
   "codemirror_mode": {
    "name": "ipython",
    "version": 2
   },
   "file_extension": ".py",
   "mimetype": "text/x-python",
   "name": "python",
   "nbconvert_exporter": "python",
   "pygments_lexer": "ipython2",
   "version": "2.7.11"
  }
 },
 "nbformat": 4,
 "nbformat_minor": 0
}
