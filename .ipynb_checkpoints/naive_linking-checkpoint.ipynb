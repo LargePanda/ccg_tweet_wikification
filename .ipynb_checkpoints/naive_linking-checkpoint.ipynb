{
 "cells": [
  {
   "cell_type": "code",
   "execution_count": null,
   "metadata": {
    "collapsed": true
   },
   "outputs": [],
   "source": [
    "ids = set()\n",
    "\n",
    "with open(\"/Users/erichsu/Documents/research/ccg_tweet_wikification/data/v1-NEELOnly/label-train.tsv\", \"rb\") as f:\n",
    "    for line in f:\n",
    "        ids.add(line.split(\"\\t\")[0])"
   ]
  }
 ],
 "metadata": {
  "kernelspec": {
   "display_name": "Python 2",
   "language": "python",
   "name": "python2"
  },
  "language_info": {
   "codemirror_mode": {
    "name": "ipython",
    "version": 2
   },
   "file_extension": ".py",
   "mimetype": "text/x-python",
   "name": "python",
   "nbconvert_exporter": "python",
   "pygments_lexer": "ipython2",
   "version": "2.7.11"
  }
 },
 "nbformat": 4,
 "nbformat_minor": 0
}
