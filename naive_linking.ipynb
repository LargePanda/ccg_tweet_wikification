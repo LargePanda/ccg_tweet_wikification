{
 "cells": [
  {
   "cell_type": "markdown",
   "metadata": {},
   "source": [
    " <h1 align=\"center\">Naive Linking</h1> \n",
    " <h4 align=\"center\">Jiarui Xu - jxu57@illinois.edu</h4> "
   ]
  },
  {
   "cell_type": "code",
   "execution_count": 17,
   "metadata": {
    "collapsed": true
   },
   "outputs": [],
   "source": [
    "import pickle\n",
    "import pyprind"
   ]
  },
  {
   "cell_type": "code",
   "execution_count": 11,
   "metadata": {
    "collapsed": true
   },
   "outputs": [],
   "source": [
    "data_folder = \"/Volumes/backup/ccg_tweet_wikifier_data/\""
   ]
  },
  {
   "cell_type": "code",
   "execution_count": 12,
   "metadata": {
    "collapsed": false
   },
   "outputs": [],
   "source": [
    "with open(data_folder+\"Tweet/NEEL_tweets(with_grams).pickle\", \"rb\") as f:\n",
    "    tweet_corpus = pickle.load(f)"
   ]
  },
  {
   "cell_type": "code",
   "execution_count": 14,
   "metadata": {
    "collapsed": false
   },
   "outputs": [
    {
     "data": {
      "text/plain": [
       "1286"
      ]
     },
     "execution_count": 14,
     "metadata": {},
     "output_type": "execute_result"
    }
   ],
   "source": [
    "len(tweet_corpus)"
   ]
  },
  {
   "cell_type": "code",
   "execution_count": 15,
   "metadata": {
    "collapsed": true
   },
   "outputs": [],
   "source": [
    "entity_info_file = \"/Volumes/backup/ccg_tweet_wikifier_data/wikidata/entity_info.txt\" "
   ]
  },
  {
   "cell_type": "code",
   "execution_count": 18,
   "metadata": {
    "collapsed": false
   },
   "outputs": [
    {
     "name": "stderr",
     "output_type": "stream",
     "text": [
      "0%                                                                  100%\n",
      "[######################################################################] | ETA: 00:00:00"
     ]
    }
   ],
   "source": [
    "bar = pyprind.ProgBar(20951710, width = 70)\n",
    "\n",
    "entity_info = {}\n",
    "\n",
    "with open(entity_info_file, \"rb\") as f:\n",
    "    for line in f:\n",
    "        pline = line.strip()\n",
    "        bar.update()\n",
    "        \n",
    "        info = eval(pline)\n",
    "        entity_info.update(info)"
   ]
  },
  {
   "cell_type": "code",
   "execution_count": null,
   "metadata": {
    "collapsed": true
   },
   "outputs": [],
   "source": []
  }
 ],
 "metadata": {
  "kernelspec": {
   "display_name": "Python 2",
   "language": "python",
   "name": "python2"
  },
  "language_info": {
   "codemirror_mode": {
    "name": "ipython",
    "version": 2
   },
   "file_extension": ".py",
   "mimetype": "text/x-python",
   "name": "python",
   "nbconvert_exporter": "python",
   "pygments_lexer": "ipython2",
   "version": "2.7.11"
  }
 },
 "nbformat": 4,
 "nbformat_minor": 0
}
