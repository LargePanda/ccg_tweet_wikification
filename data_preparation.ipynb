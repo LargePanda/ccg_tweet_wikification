{
 "cells": [
  {
   "cell_type": "markdown",
   "metadata": {},
   "source": [
    " <h1 align=\"center\">Data Preparation</h1> \n",
    " <h4 align=\"center\">Jiarui Xu - jxu57@illinois.edu</h4> "
   ]
  },
  {
   "cell_type": "code",
   "execution_count": 21,
   "metadata": {
    "collapsed": false
   },
   "outputs": [],
   "source": [
    "import pyprind\n",
    "import sys\n",
    "import pickle"
   ]
  },
  {
   "cell_type": "code",
   "execution_count": 22,
   "metadata": {
    "collapsed": true
   },
   "outputs": [],
   "source": [
    "data_folder = \"/Volumes/backup/ccg_tweet_wikifier_data/\""
   ]
  },
  {
   "cell_type": "markdown",
   "metadata": {},
   "source": [
    "## 1. Acquire Tweets"
   ]
  },
  {
   "cell_type": "markdown",
   "metadata": {},
   "source": [
    "### a. Set Twitter API"
   ]
  },
  {
   "cell_type": "code",
   "execution_count": 5,
   "metadata": {
    "collapsed": true
   },
   "outputs": [],
   "source": [
    "# Set API keys\n",
    "consumer_key = 'FTglCRcahFJxH3U0TVoakD3BS'\n",
    "consumer_secret = 'BoNfyAic70hWkmH6jIzr4xoE48iFyIRnqvwE4NjSwpfJVwD7N2'\n",
    "access_token = '3081709104-XeNjGf7h9l6G1ERuPE1l9KOX85XJcWMBflWd1P8'\n",
    "access_token_secret = '9Z1czrN0jU4hs08KtxE7IeIcjNWAd1LbWqblvyvzJoRfN'"
   ]
  },
  {
   "cell_type": "code",
   "execution_count": 7,
   "metadata": {
    "collapsed": false
   },
   "outputs": [],
   "source": [
    "# Set up API\n",
    "import tweepy\n",
    "\n",
    "auth = tweepy.OAuthHandler(consumer_key, consumer_secret)\n",
    "auth.set_access_token(access_token, access_token_secret)\n",
    "\n",
    "api = tweepy.API(auth, wait_on_rate_limit=True)"
   ]
  },
  {
   "cell_type": "markdown",
   "metadata": {},
   "source": [
    "### b. Load File"
   ]
  },
  {
   "cell_type": "markdown",
   "metadata": {},
   "source": [
    "label-trainDev.tsv -- train split of NEEL [2] dataset    \n",
    "label-train.tsv -- train split of label-trainDev.tsv used in this paper (used for parameter tuning)    \n",
    "label-dev.tsv -- dev split of label-trainDev.tsv used in this paper (used for parameter tuning)    \n",
    "label-test.tsv -- test split of NEEL [2] dataset    "
   ]
  },
  {
   "cell_type": "code",
   "execution_count": 9,
   "metadata": {
    "collapsed": true
   },
   "outputs": [],
   "source": [
    "file_list = [\"label-trainDev.tsv\", \"label-train.tsv\", \"label-dev.tsv\", \"label-test.tsv\"]"
   ]
  },
  {
   "cell_type": "markdown",
   "metadata": {},
   "source": [
    "Get a set of unique tweet ids"
   ]
  },
  {
   "cell_type": "code",
   "execution_count": 12,
   "metadata": {
    "collapsed": false
   },
   "outputs": [],
   "source": [
    "tweet_ids = set()\n",
    "for file_name in file_list:\n",
    "    with open (\"./data/v1-NEELOnly/\" + file_name, \"r\") as f:\n",
    "        for line in f:\n",
    "            segs = line.split(\"\\t\")\n",
    "            tweet_id = segs[0]\n",
    "            tweet_ids.add(tweet_id)"
   ]
  },
  {
   "cell_type": "markdown",
   "metadata": {},
   "source": [
    "### c. Retrieve Tweets using API"
   ]
  },
  {
   "cell_type": "markdown",
   "metadata": {},
   "source": [
    "Define a function to retrieve tweets"
   ]
  },
  {
   "cell_type": "code",
   "execution_count": 16,
   "metadata": {
    "collapsed": true
   },
   "outputs": [],
   "source": [
    "def fill_tweet_set(id_list):\n",
    "    # set up progress bar\n",
    "    bar = pyprind.ProgBar(len(id_list))\n",
    "    \n",
    "    tweet_set = {}\n",
    "    failed = {}\n",
    "    \n",
    "    for id in id_list:\n",
    "        bar.update()\n",
    "        \n",
    "        try:\n",
    "            tweet_set[id] = api.get_status(id,)._json\n",
    "        except:\n",
    "            failed[id] = sys.exc_info()[0]\n",
    "    \n",
    "    return (tweet_set, failed)"
   ]
  },
  {
   "cell_type": "code",
   "execution_count": 19,
   "metadata": {
    "collapsed": false
   },
   "outputs": [
    {
     "name": "stderr",
     "output_type": "stream",
     "text": [
      "0%                          100%\n",
      "[##############################] | ETA: 00:00:00\n",
      "Total time elapsed: 02:01:23\n"
     ]
    }
   ],
   "source": [
    "result = fill_tweet_set(tweet_ids)"
   ]
  },
  {
   "cell_type": "markdown",
   "metadata": {},
   "source": [
    "save the tweet set to file"
   ]
  },
  {
   "cell_type": "code",
   "execution_count": 46,
   "metadata": {
    "collapsed": false
   },
   "outputs": [],
   "source": [
    "tweet_corpus = {}\n",
    "\n",
    "for tweet_id in result[0].keys():\n",
    "    tweet_corpus[tweet_id] = {}\n",
    "    tweet_corpus[tweet_id]['tweet_info'] = result[0][tweet_id]\n",
    "\n",
    "with open(data_folder+\"Tweet/NEEL_tweets(raw).pickle\", \"wb\") as f:\n",
    "    pickle.dump(tweet_corpus, f)"
   ]
  },
  {
   "cell_type": "markdown",
   "metadata": {},
   "source": [
    "A sample tweet object in json"
   ]
  },
  {
   "cell_type": "code",
   "execution_count": 47,
   "metadata": {
    "collapsed": false,
    "scrolled": true
   },
   "outputs": [
    {
     "data": {
      "text/plain": [
       "{'tweet_info': {u'contributors': None,\n",
       "  u'coordinates': None,\n",
       "  u'created_at': u'Tue Jul 19 13:41:44 +0000 2011',\n",
       "  u'entities': {u'hashtags': [],\n",
       "   u'symbols': [],\n",
       "   u'urls': [],\n",
       "   u'user_mentions': []},\n",
       "  u'favorite_count': 2,\n",
       "  u'favorited': False,\n",
       "  u'geo': None,\n",
       "  'goldens': [{'end_idx': '10',\n",
       "    'freebase_title': '/m/02_nkp',\n",
       "    'mention': 'Lamar Odom',\n",
       "    'start_idx': '0',\n",
       "    'tid': '93314579924393984',\n",
       "    'wiki_title': 'Lamar_Odom'}],\n",
       "  u'id': 93314579924393984,\n",
       "  u'id_str': u'93314579924393984',\n",
       "  u'in_reply_to_screen_name': None,\n",
       "  u'in_reply_to_status_id': None,\n",
       "  u'in_reply_to_status_id_str': None,\n",
       "  u'in_reply_to_user_id': None,\n",
       "  u'in_reply_to_user_id_str': None,\n",
       "  u'is_quote_status': False,\n",
       "  u'lang': u'en',\n",
       "  u'place': None,\n",
       "  u'retweet_count': 33,\n",
       "  u'retweeted': False,\n",
       "  u'source': u'<a href=\"https://about.twitter.com/products/tweetdeck\" rel=\"nofollow\">TweetDeck</a>',\n",
       "  u'text': u\"Lamar Odom's Car Accident Claims Life Of A 15 Year Old Boy http://on.vh1.com/pJObAI\",\n",
       "  u'truncated': False,\n",
       "  u'user': {u'contributors_enabled': False,\n",
       "   u'created_at': u'Thu Jun 12 18:51:58 +0000 2008',\n",
       "   u'default_profile': False,\n",
       "   u'default_profile_image': False,\n",
       "   u'description': u'So many celebrities, so little time! http://t.co/iWMxyZrTVY Instagram: @VH1Celebrity',\n",
       "   u'entities': {u'description': {u'urls': [{u'display_url': u'facebook.com/VH1Celebrity',\n",
       "       u'expanded_url': u'http://www.facebook.com/VH1Celebrity',\n",
       "       u'indices': [37, 59],\n",
       "       u'url': u'http://t.co/iWMxyZrTVY'}]},\n",
       "    u'url': {u'urls': [{u'display_url': u'vh1.com/news/celebrity/',\n",
       "       u'expanded_url': u'http://www.vh1.com/news/celebrity/',\n",
       "       u'indices': [0, 22],\n",
       "       u'url': u'http://t.co/taTl1sYDPi'}]}},\n",
       "   u'favourites_count': 365,\n",
       "   u'follow_request_sent': False,\n",
       "   u'followers_count': 43676,\n",
       "   u'following': False,\n",
       "   u'friends_count': 2072,\n",
       "   u'geo_enabled': False,\n",
       "   u'has_extended_profile': False,\n",
       "   u'id': 15099721,\n",
       "   u'id_str': u'15099721',\n",
       "   u'is_translation_enabled': False,\n",
       "   u'is_translator': False,\n",
       "   u'lang': u'en',\n",
       "   u'listed_count': 530,\n",
       "   u'location': u'NEW YORK BABY!',\n",
       "   u'name': u'VH1 Celebrity',\n",
       "   u'notifications': False,\n",
       "   u'profile_background_color': u'000000',\n",
       "   u'profile_background_image_url': u'http://abs.twimg.com/images/themes/theme14/bg.gif',\n",
       "   u'profile_background_image_url_https': u'https://abs.twimg.com/images/themes/theme14/bg.gif',\n",
       "   u'profile_background_tile': False,\n",
       "   u'profile_banner_url': u'https://pbs.twimg.com/profile_banners/15099721/1400180247',\n",
       "   u'profile_image_url': u'http://pbs.twimg.com/profile_images/464086683810402304/rmeVwN8f_normal.png',\n",
       "   u'profile_image_url_https': u'https://pbs.twimg.com/profile_images/464086683810402304/rmeVwN8f_normal.png',\n",
       "   u'profile_link_color': u'DD2E44',\n",
       "   u'profile_sidebar_border_color': u'000000',\n",
       "   u'profile_sidebar_fill_color': u'000000',\n",
       "   u'profile_text_color': u'000000',\n",
       "   u'profile_use_background_image': False,\n",
       "   u'protected': False,\n",
       "   u'screen_name': u'VH1Celebrity',\n",
       "   u'statuses_count': 26321,\n",
       "   u'time_zone': u'Quito',\n",
       "   u'url': u'http://t.co/taTl1sYDPi',\n",
       "   u'utc_offset': -18000,\n",
       "   u'verified': True}}}"
      ]
     },
     "execution_count": 47,
     "metadata": {},
     "output_type": "execute_result"
    }
   ],
   "source": [
    "tweet_corpus['93314579924393984']"
   ]
  },
  {
   "cell_type": "markdown",
   "metadata": {},
   "source": [
    "# 2. Load Golden Standard"
   ]
  },
  {
   "cell_type": "code",
   "execution_count": 48,
   "metadata": {
    "collapsed": true
   },
   "outputs": [],
   "source": [
    "def golden_generator(tid, s_idx, e_idx, wiki_title, freebase, mention):\n",
    "    ret = {}\n",
    "    ret['tid'] = tid\n",
    "    ret['start_idx'] = s_idx\n",
    "    ret['end_idx'] = e_idx\n",
    "    ret['wiki_title'] = wiki_title\n",
    "    ret['freebase_title'] = freebase\n",
    "    ret['mention'] = mention\n",
    "    return ret"
   ]
  },
  {
   "cell_type": "code",
   "execution_count": 49,
   "metadata": {
    "collapsed": false
   },
   "outputs": [],
   "source": [
    "def golden_standard(file_list, tweet_corpus):\n",
    "    unique_lines= set()\n",
    "    \n",
    "    for file_name in file_list: \n",
    "        with open (\"./data/v1-NEELOnly/\" + file_name, \"r\") as f:\n",
    "            for line in f:\n",
    "                unique_lines.add(line.strip())\n",
    "    \n",
    "    for tw in tweet_corpus.values():\n",
    "        tw['goldens'] = []\n",
    "        \n",
    "    for line in unique_lines:\n",
    "        segments = line.strip().split(\"\\t\")\n",
    "        tid = segments[0]\n",
    "        if tid in tweet_corpus:\n",
    "            golden = golden_generator(segments[0], segments[1], segments[2],\\\n",
    "                                        segments[3], segments[4], segments[5])\n",
    "            tweet_corpus[tid]['goldens'].append(golden)"
   ]
  },
  {
   "cell_type": "markdown",
   "metadata": {},
   "source": [
    "Now loading ..."
   ]
  },
  {
   "cell_type": "code",
   "execution_count": 50,
   "metadata": {
    "collapsed": false
   },
   "outputs": [],
   "source": [
    "golden_standard(file_list, tweet_corpus)"
   ]
  },
  {
   "cell_type": "markdown",
   "metadata": {},
   "source": [
    "This is an example of golden standard"
   ]
  },
  {
   "cell_type": "code",
   "execution_count": 53,
   "metadata": {
    "collapsed": false
   },
   "outputs": [
    {
     "data": {
      "text/plain": [
       "[{'end_idx': '10',\n",
       "  'freebase_title': '/m/02_nkp',\n",
       "  'mention': 'Lamar Odom',\n",
       "  'start_idx': '0',\n",
       "  'tid': '93314579924393984',\n",
       "  'wiki_title': 'Lamar_Odom'}]"
      ]
     },
     "execution_count": 53,
     "metadata": {},
     "output_type": "execute_result"
    }
   ],
   "source": [
    "tweet_corpus['93314579924393984']['goldens']"
   ]
  },
  {
   "cell_type": "markdown",
   "metadata": {},
   "source": [
    "# 3. Extracting Twitter's Special Information"
   ]
  },
  {
   "cell_type": "markdown",
   "metadata": {},
   "source": [
    "https://support.twitter.com/articles/166337"
   ]
  },
  {
   "cell_type": "markdown",
   "metadata": {},
   "source": [
    "### a. Hashtag"
   ]
  },
  {
   "cell_type": "code",
   "execution_count": 54,
   "metadata": {
    "collapsed": false
   },
   "outputs": [
    {
     "name": "stdout",
     "output_type": "stream",
     "text": [
      "[{u'indices': [14, 26], u'text': u'TheBachelor'}]\n",
      "[{u'indices': [113, 126], u'text': u'pastranathon'}]\n",
      "[{u'indices': [69, 76], u'text': u'Prison'}, {u'indices': [124, 134], u'text': u'detention'}]\n",
      "[{u'indices': [29, 40], u'text': u'compromise'}]\n",
      "[{u'indices': [71, 84], u'text': u'SLAMnewswire'}, {u'indices': [85, 89], u'text': u'NBA'}]\n",
      "[{u'indices': [23, 30], u'text': u'Tahrir'}, {u'indices': [95, 101], u'text': u'Egypt'}]\n",
      "[{u'indices': [10, 18], u'text': u'Mubarak'}, {u'indices': [115, 121], u'text': u'Egypt'}, {u'indices': [122, 128], u'text': u'Jan25'}]\n",
      "[{u'indices': [0, 6], u'text': u'Libya'}]\n",
      "[{u'indices': [73, 80], u'text': u'Ravens'}]\n",
      "[{u'indices': [128, 140], u'text': u'londonriots'}]\n",
      "[{u'indices': [89, 94], u'text': u'Oslo'}]\n",
      "[{u'indices': [0, 24], u'text': u'ThoughtsOnChatWithFelol'}, {u'indices': [132, 138], u'text': u'Egypt'}]\n",
      "[{u'indices': [119, 131], u'text': u'Londonriots'}]\n",
      "[{u'indices': [69, 83], u'text': u'sharonshannon'}]\n",
      "[{u'indices': [101, 105], u'text': u'huh'}]\n",
      "[{u'indices': [121, 129], u'text': u'Prayers'}]\n",
      "[{u'indices': [119, 135], u'text': u'birminghamriots'}]\n",
      "[{u'indices': [63, 70], u'text': u'Coffee'}, {u'indices': [71, 75], u'text': u'NYC'}]\n",
      "[{u'indices': [119, 126], u'text': u'Norway'}]\n",
      "[{u'indices': [0, 13], u'text': u'BREAKINGNEWS'}]\n",
      "[{u'indices': [88, 101], u'text': u'cardiffriots'}]\n",
      "[{u'indices': [90, 94], u'text': u'CFC'}]\n",
      "[{u'indices': [24, 31], u'text': u'Cancer'}]\n",
      "[{u'indices': [14, 23], u'text': u'WhiteSox'}, {u'indices': [132, 140], u'text': u'Indians'}]\n",
      "[{u'indices': [125, 136], u'text': u'FallonMono'}]\n",
      "[{u'indices': [125, 140], u'text': u'NaijaAgeCheats'}]\n",
      "[{u'indices': [82, 93], u'text': u'apprentice'}]\n",
      "[{u'indices': [127, 131], u'text': u'EFC'}, {u'indices': [132, 137], u'text': u'COYB'}]\n",
      "[{u'indices': [101, 111], u'text': u'poohwords'}]\n",
      "[{u'indices': [0, 7], u'text': u'stocks'}]\n",
      "[{u'indices': [0, 4], u'text': u'NFL'}, {u'indices': [59, 64], u'text': u'Jets'}]\n",
      "[{u'indices': [124, 130], u'text': u'Egypt'}]\n",
      "[{u'indices': [99, 111], u'text': u'ihatequotes'}]\n",
      "[{u'indices': [0, 3], u'text': u'RT'}]\n",
      "[{u'indices': [111, 117], u'text': u'USWNT'}]\n",
      "[{u'indices': [0, 9], u'text': u'football'}]\n",
      "[{u'indices': [108, 111], u'text': u'p2'}, {u'indices': [112, 117], u'text': u'notw'}, {u'indices': [118, 127], u'text': u'hackgate'}]\n",
      "[{u'indices': [90, 95], u'text': u'notw'}, {u'indices': [96, 109], u'text': u'phonehacking'}]\n",
      "[{u'indices': [123, 132], u'text': u'hackgate'}, {u'indices': [133, 137], u'text': u'j96'}]\n",
      "[{u'indices': [32, 38], u'text': u'USMNT'}]\n",
      "[{u'indices': [57, 63], u'text': u'Syria'}]\n",
      "[{u'indices': [4, 13], u'text': u'Patriots'}]\n",
      "[{u'indices': [122, 137], u'text': u'prayformancity'}]\n",
      "[{u'indices': [34, 43], u'text': u'hackgate'}]\n",
      "[{u'indices': [43, 51], u'text': u'Canmore'}, {u'indices': [52, 59], u'text': u'Legion'}, {u'indices': [120, 133], u'text': u'LunchSpecial'}]\n",
      "[{u'indices': [76, 82], u'text': u'qanda'}]\n",
      "[{u'indices': [119, 131], u'text': u'inspiration'}]\n",
      "[{u'indices': [0, 8], u'text': u'bristol'}, {u'indices': [9, 14], u'text': u'news'}]\n",
      "[{u'indices': [0, 8], u'text': u'SkyNews'}]\n",
      "[{u'indices': [119, 124], u'text': u'notw'}, {u'indices': [125, 132], u'text': u'auspol'}]\n",
      "[{u'indices': [126, 132], u'text': u'riots'}]\n",
      "[{u'indices': [101, 104], u'text': u'Me'}]\n",
      "[{u'indices': [100, 109], u'text': u'OpPaypal'}]\n",
      "[{u'indices': [76, 86], u'text': u'poohwords'}]\n",
      "[{u'indices': [14, 30], u'text': u'apprenticefinal'}]\n",
      "[{u'indices': [38, 42], u'text': u'TOC'}]\n",
      "[{u'indices': [10, 16], u'text': u'Obama'}]\n",
      "[{u'indices': [40, 47], u'text': u'random'}]\n",
      "[{u'indices': [82, 90], u'text': u'Watford'}, {u'indices': [95, 110], u'text': u'Hemelhempstead'}, {u'indices': [122, 138], u'text': u'stopriotrumours'}]\n",
      "[{u'indices': [19, 24], u'text': u'mcfc'}]\n",
      "[{u'indices': [101, 113], u'text': u'londonriots'}]\n",
      "[{u'indices': [85, 92], u'text': u'RIPAmy'}]\n",
      "[{u'indices': [0, 6], u'text': u'Syria'}, {u'indices': [7, 12], u'text': u'Homs'}, {u'indices': [114, 130], u'text': u'RamadanMassacre'}]\n",
      "[{u'indices': [82, 93], u'text': u'journalism'}]\n",
      "[{u'indices': [4, 10], u'text': u'Bears'}]\n",
      "[{u'indices': [20, 27], u'text': u'Darfur'}, {u'indices': [45, 50], u'text': u'Doha'}, {u'indices': [65, 71], u'text': u'rebel'}, {u'indices': [87, 93], u'text': u'peace'}]\n",
      "[{u'indices': [133, 140], u'text': u'potter'}]\n",
      "[{u'indices': [103, 109], u'text': u'riots'}]\n",
      "[{u'indices': [0, 8], u'text': u'JudgeMe'}]\n",
      "[{u'indices': [47, 60], u'text': u'OpenChampion'}]\n",
      "[{u'indices': [48, 59], u'text': u'Wathamstow'}, {u'indices': [61, 74], u'text': u'PalmersGreen'}, {u'indices': [76, 84], u'text': u'Enfield'}, {u'indices': [86, 97], u'text': u'PondersEnd'}, {u'indices': [99, 110], u'text': u'Earlsfield'}, {u'indices': [115, 125], u'text': u'Westfield'}, {u'indices': [127, 139], u'text': u'LondonRiots'}]\n",
      "[{u'indices': [73, 84], u'text': u'VortexCorp'}]\n",
      "[{u'indices': [119, 125], u'text': u'july8'}]\n",
      "[{u'indices': [16, 26], u'text': u'Capricorn'}]\n",
      "[{u'indices': [124, 132], u'text': u'Dodgers'}]\n",
      "[{u'indices': [0, 5], u'text': u'NASA'}]\n",
      "[{u'indices': [106, 110], u'text': u'CFC'}]\n",
      "[{u'indices': [99, 111], u'text': u'disneywords'}]\n",
      "[{u'indices': [0, 6], u'text': u'Bills'}]\n",
      "[{u'indices': [0, 3], u'text': u'F1'}]\n",
      "[{u'indices': [72, 81], u'text': u'hackgate'}]\n",
      "[{u'indices': [129, 135], u'text': u'libya'}]\n",
      "[{u'indices': [103, 115], u'text': u'PrayForThem'}]\n",
      "[{u'indices': [118, 123], u'text': u'mcfc'}]\n",
      "[{u'indices': [128, 134], u'text': u'riots'}]\n",
      "[{u'indices': [76, 86], u'text': u'viatumblr'}]\n",
      "[{u'indices': [98, 112], u'text': u'prayforafrica'}]\n",
      "[{u'indices': [0, 8], u'text': u'Murdoch'}]\n",
      "[{u'indices': [136, 140], u'text': u'afc'}]\n",
      "[{u'indices': [76, 104], u'text': u'YorkshireIsEmbarrassedByYou'}]\n",
      "[{u'indices': [91, 94], u'text': u'lp'}]\n",
      "[{u'indices': [51, 59], u'text': u'Croydon'}, {u'indices': [61, 73], u'text': u'Londonriots'}]\n",
      "[{u'indices': [117, 122], u'text': u'NUFC'}]\n",
      "[{u'indices': [120, 128], u'text': u'oslexpl'}]\n",
      "[{u'indices': [7, 15], u'text': u'Murdoch'}, {u'indices': [28, 33], u'text': u'NOTW'}]\n",
      "[{u'indices': [124, 133], u'text': u'hackgate'}]\n",
      "[{u'indices': [133, 139], u'text': u'taxes'}]\n",
      "[{u'indices': [17, 32], u'text': u'liverpoolriots'}]\n",
      "[{u'indices': [36, 42], u'text': u'USWNT'}]\n",
      "[{u'indices': [92, 105], u'text': u'phonehacking'}]\n",
      "[{u'indices': [78, 88], u'text': u'edgbaston'}]\n",
      "[{u'indices': [104, 109], u'text': u'mufc'}]\n",
      "[{u'indices': [109, 122], u'text': u'YankeesFacts'}]\n",
      "[{u'indices': [0, 5], u'text': u'Visa'}, {u'indices': [7, 18], u'text': u'Mastercard'}, {u'indices': [20, 25], u'text': u'AMEX'}, {u'indices': [32, 39], u'text': u'PayPal'}]\n",
      "[{u'indices': [0, 14], u'text': u'RetweetThisIf'}]\n",
      "[{u'indices': [134, 138], u'text': u'TLS'}]\n",
      "[{u'indices': [0, 12], u'text': u'ChuckNorriz'}]\n",
      "[{u'indices': [55, 59], u'text': u'qld'}]\n",
      "[{u'indices': [117, 130], u'text': u'virginiatech'}]\n",
      "[{u'indices': [77, 83], u'text': u'quote'}, {u'indices': [98, 106], u'text': u'fashion'}]\n",
      "[{u'indices': [128, 140], u'text': u'ihatequotes'}]\n",
      "[{u'indices': [107, 119], u'text': u'gopgameplan'}]\n",
      "[{u'indices': [9, 21], u'text': u'riotcleanup'}, {u'indices': [99, 111], u'text': u'riotwombles'}]\n",
      "[{u'indices': [0, 12], u'text': u'ZodiacFacts'}, {u'indices': [64, 71], u'text': u'Cancer'}]\n",
      "[{u'indices': [67, 79], u'text': u'londonriots'}]\n",
      "[{u'indices': [97, 105], u'text': u'fcblive'}, {u'indices': [106, 116], u'text': u'elclasico'}]\n",
      "[{u'indices': [106, 120], u'text': u'prayforNorway'}]\n",
      "[{u'indices': [0, 4], u'text': u'AFC'}, {u'indices': [50, 54], u'text': u'LFC'}, {u'indices': [130, 138], u'text': u'typical'}]\n",
      "[{u'indices': [101, 114], u'text': u'DoojoonFacts'}]\n",
      "[{u'indices': [0, 8], u'text': u'BAHRAIN'}]\n",
      "[{u'indices': [49, 58], u'text': u'Patriots'}]\n",
      "[{u'indices': [0, 22], u'text': u'thingsthatmakemehappy'}, {u'indices': [90, 99], u'text': u'dushiyiu'}, {u'indices': [100, 113], u'text': u'lezgoyankees'}]\n",
      "[{u'indices': [93, 97], u'text': u'CFC'}]\n",
      "[{u'indices': [122, 135], u'text': u'stoptheriots'}]\n",
      "[{u'indices': [32, 40], u'text': u'Arsenal'}]\n",
      "[{u'indices': [29, 39], u'text': u'Sheffield'}]\n",
      "[{u'indices': [4, 11], u'text': u'GIANTS'}, {u'indices': [77, 81], u'text': u'nyg'}]\n",
      "[{u'indices': [0, 8], u'text': u'Enfield'}, {u'indices': [9, 18], u'text': u'Edmonton'}]\n",
      "[{u'indices': [132, 136], u'text': u'GOP'}]\n",
      "[{u'indices': [91, 104], u'text': u'CatchingFire'}]\n",
      "[{u'indices': [37, 45], u'text': u'Hackney'}, {u'indices': [50, 62], u'text': u'riotcleanup'}]\n",
      "[{u'indices': [0, 4], u'text': u'NHL'}, {u'indices': [10, 18], u'text': u'Canucks'}]\n",
      "[{u'indices': [131, 140], u'text': u'Team_God'}]\n",
      "[{u'indices': [45, 58], u'text': u'Thisyoursong'}]\n",
      "[{u'indices': [117, 122], u'text': u'MITB'}]\n",
      "[{u'indices': [0, 6], u'text': u'Japan'}]\n",
      "[{u'indices': [73, 89], u'text': u'praying4nations'}]\n",
      "[{u'indices': [0, 20], u'text': u'whendiditbecomecool'}]\n",
      "[{u'indices': [0, 10], u'text': u'CONFIRMED'}]\n",
      "[{u'indices': [59, 66], u'text': u'Norway'}]\n",
      "[{u'indices': [0, 13], u'text': u'BreakingNews'}, {u'indices': [29, 39], u'text': u'NavySEALs'}, {u'indices': [98, 110], u'text': u'Afghanistan'}]\n",
      "[{u'indices': [32, 39], u'text': u'famine'}, {u'indices': [90, 98], u'text': u'Somalia'}]\n",
      "[{u'indices': [31, 37], u'text': u'Syria'}]\n",
      "[{u'indices': [62, 80], u'text': u'GoodnightGodBless'}]\n",
      "[{u'indices': [79, 83], u'text': u'nyj'}]\n",
      "[{u'indices': [96, 114], u'text': u'stopcyberbullying'}]\n",
      "[{u'indices': [110, 119], u'text': u'SaveCena'}]\n",
      "[{u'indices': [103, 108], u'text': u'sdwx'}, {u'indices': [109, 116], u'text': u'bisman'}, {u'indices': [117, 130], u'text': u'sistercities'}]\n",
      "[{u'indices': [120, 136], u'text': u'americanewsfail'}]\n",
      "[{u'indices': [119, 126], u'text': u'soccer'}, {u'indices': [127, 136], u'text': u'football'}]\n",
      "[{u'indices': [124, 136], u'text': u'surreyriots'}]\n",
      "[{u'indices': [0, 4], u'text': u'MLB'}, {u'indices': [23, 29], u'text': u'White'}, {u'indices': [30, 34], u'text': u'Sox'}, {u'indices': [41, 49], u'text': u'Indians'}]\n",
      "[{u'indices': [72, 80], u'text': u'lulzsec'}, {u'indices': [81, 88], u'text': u'thesun'}, {u'indices': [89, 98], u'text': u'hackgate'}]\n",
      "[{u'indices': [125, 137], u'text': u'londonriots'}]\n",
      "[{u'indices': [90, 96], u'text': u'quote'}]\n",
      "[{u'indices': [0, 13], u'text': u'BreakingNews'}, {u'indices': [27, 37], u'text': u'RickPerry'}, {u'indices': [69, 75], u'text': u'Texas'}]\n",
      "[{u'indices': [44, 56], u'text': u'gladyoucame'}]\n",
      "[{u'indices': [0, 10], u'text': u'MetPolice'}, {u'indices': [82, 86], u'text': u'NoW'}]\n",
      "[{u'indices': [75, 80], u'text': u'NFLN'}]\n",
      "[{u'indices': [41, 44], u'text': u'MW'}, {u'indices': [62, 67], u'text': u'SDSU'}, {u'indices': [106, 109], u'text': u'mw'}, {u'indices': [120, 126], u'text': u'mgolf'}]\n",
      "[{u'indices': [0, 6], u'text': u'Bison'}, {u'indices': [124, 135], u'text': u'USWomensAm'}]\n",
      "[{u'indices': [36, 46], u'text': u'zookeeper'}, {u'indices': [78, 88], u'text': u'justsayin'}]\n",
      "[{u'indices': [127, 136], u'text': u'military'}]\n",
      "[{u'indices': [101, 106], u'text': u'Oslo'}]\n",
      "[{u'indices': [115, 125], u'text': u'RogersCup'}, {u'indices': [127, 131], u'text': u'atp'}, {u'indices': [132, 139], u'text': u'tennis'}]\n",
      "[{u'indices': [0, 8], u'text': u'cricket'}]\n",
      "[{u'indices': [0, 5], u'text': u'Reds'}]\n",
      "[{u'indices': [115, 126], u'text': u'halamadrid'}, {u'indices': [127, 138], u'text': u'realmadrid'}]\n",
      "[{u'indices': [92, 101], u'text': u'Redskins'}, {u'indices': [132, 140], u'text': u'Vikings'}]\n",
      "[{u'indices': [106, 114], u'text': u'CSLEWIS'}]\n",
      "[{u'indices': [56, 72], u'text': u'firstworldpains'}]\n",
      "[{u'indices': [56, 68], u'text': u'LondonRiots'}, {u'indices': [69, 81], u'text': u'riotcleanup'}]\n",
      "[{u'indices': [0, 9], u'text': u'Bachmann'}, {u'indices': [26, 31], u'text': u'Ames'}, {u'indices': [32, 42], u'text': u'StrawPoll'}]\n",
      "[{u'indices': [0, 3], u'text': u'nw'}]\n",
      "[{u'indices': [13, 23], u'text': u'Leicester'}]\n",
      "[{u'indices': [95, 99], u'text': u'TLS'}]\n",
      "[{u'indices': [96, 102], u'text': u'USWNT'}]\n",
      "[{u'indices': [0, 10], u'text': u'Southwark'}, {u'indices': [46, 58], u'text': u'londonriots'}]\n",
      "[{u'indices': [110, 122], u'text': u'ihatequotes'}]\n",
      "[{u'indices': [99, 111], u'text': u'ihatequotes'}]\n",
      "[{u'indices': [123, 128], u'text': u'MUFC'}]\n",
      "[{u'indices': [0, 6], u'text': u'Solar'}]\n",
      "[{u'indices': [111, 116], u'text': u'dadt'}]\n",
      "[{u'indices': [0, 8], u'text': u'tripleh'}]\n",
      "[{u'indices': [80, 92], u'text': u'disneywords'}]\n",
      "[{u'indices': [0, 12], u'text': u'HarryPotter'}, {u'indices': [25, 30], u'text': u'TCAs'}]\n",
      "[{u'indices': [133, 136], u'text': u'fb'}]\n",
      "[{u'indices': [40, 51], u'text': u'Nottingham'}, {u'indices': [52, 58], u'text': u'riots'}]\n",
      "[{u'indices': [76, 84], u'text': u'NHLJets'}]\n",
      "[{u'indices': [131, 140], u'text': u'hackgate'}]\n",
      "[{u'indices': [12, 20], u'text': u'Comcast'}]\n",
      "[{u'indices': [114, 121], u'text': u'Tahrir'}, {u'indices': [122, 128], u'text': u'Egypt'}]\n",
      "[{u'indices': [4, 9], u'text': u'Oslo'}]\n",
      "[{u'indices': [92, 97], u'text': u'Gers'}]\n",
      "[{u'indices': [54, 59], u'text': u'lgbt'}, {u'indices': [60, 64], u'text': u'gay'}, {u'indices': [65, 73], u'text': u'lesbian'}, {u'indices': [74, 77], u'text': u'p2'}, {u'indices': [78, 83], u'text': u'tcot'}]\n",
      "[{u'indices': [102, 106], u'text': u'mac'}, {u'indices': [107, 113], u'text': u'apple'}]\n",
      "[{u'indices': [120, 131], u'text': u'douchebags'}]\n",
      "[{u'indices': [0, 18], u'text': u'footballfansunite'}]\n",
      "[{u'indices': [103, 111], u'text': u'Bahrain'}, {u'indices': [112, 124], u'text': u'Humanrights'}]\n",
      "[{u'indices': [22, 30], u'text': u'Georgia'}, {u'indices': [129, 139], u'text': u'obamacare'}]\n",
      "[{u'indices': [26, 32], u'text': u'USWNT'}]\n",
      "[{u'indices': [128, 134], u'text': u'USMNT'}]\n",
      "[{u'indices': [13, 29], u'text': u'JLSquestiontime'}]\n",
      "[{u'indices': [5, 13], u'text': u'Boehner'}, {u'indices': [71, 76], u'text': u'debt'}]\n",
      "[{u'indices': [110, 122], u'text': u'londonriots'}]\n",
      "[{u'indices': [38, 45], u'text': u'Norway'}]\n",
      "[{u'indices': [0, 8], u'text': u'TheChew'}]\n",
      "[{u'indices': [89, 101], u'text': u'londonriots'}]\n",
      "[{u'indices': [98, 103], u'text': u'Oslo'}]\n",
      "[{u'indices': [92, 102], u'text': u'GirlPower'}]\n",
      "[{u'indices': [70, 78], u'text': u'arsenal'}]\n",
      "[{u'indices': [14, 24], u'text': u'Cardinals'}, {u'indices': [60, 67], u'text': u'Eagles'}]\n",
      "[{u'indices': [108, 120], u'text': u'londonriots'}, {u'indices': [121, 129], u'text': u'Enfield'}, {u'indices': [130, 140], u'text': u'Woodgreen'}]\n",
      "[{u'indices': [98, 106], u'text': u'Croydon'}]\n",
      "[{u'indices': [48, 52], u'text': u'cnn'}]\n",
      "[{u'indices': [96, 110], u'text': u'ourweecountry'}]\n",
      "[{u'indices': [75, 93], u'text': u'sortyourselvesout'}]\n",
      "[{u'indices': [19, 26], u'text': u'Ravens'}]\n",
      "[{u'indices': [125, 129], u'text': u'QFG'}]\n",
      "[{u'indices': [95, 112], u'text': u'tropicalstormdon'}]\n",
      "[{u'indices': [64, 69], u'text': u'itfc'}]\n",
      "[{u'indices': [94, 104], u'text': u'NixTheSix'}]\n",
      "[{u'indices': [125, 134], u'text': u'osloexpl'}]\n",
      "[{u'indices': [0, 14], u'text': u'IRepSpaceKrew'}]\n",
      "[{u'indices': [70, 84], u'text': u'neversaynever'}]\n",
      "[{u'indices': [0, 10], u'text': u'twitaward'}]\n",
      "[{u'indices': [98, 105], u'text': u'787EIS'}]\n",
      "[{u'indices': [49, 58], u'text': u'SFGiants'}, {u'indices': [75, 83], u'text': u'Pirates'}]\n",
      "[{u'indices': [38, 44], u'text': u'49ers'}]\n",
      "[{u'indices': [78, 87], u'text': u'equality'}]\n",
      "[{u'indices': [84, 91], u'text': u'AskNas'}]\n",
      "[{u'indices': [89, 93], u'text': u'EFC'}]\n",
      "[{u'indices': [52, 57], u'text': u'totp'}]\n",
      "[{u'indices': [42, 46], u'text': u'LSU'}]\n",
      "[{u'indices': [97, 104], u'text': u'Comedy'}]\n",
      "[{u'indices': [102, 108], u'text': u'Syria'}]\n",
      "[{u'indices': [39, 47], u'text': u'nuclear'}, {u'indices': [105, 110], u'text': u'wind'}, {u'indices': [112, 118], u'text': u'solar'}, {u'indices': [124, 130], u'text': u'water'}]\n",
      "[{u'indices': [130, 136], u'text': u'libya'}]\n",
      "[{u'indices': [78, 81], u'text': u'F1'}, {u'indices': [82, 91], u'text': u'Formula1'}, {u'indices': [92, 98], u'text': u'BBCF1'}]\n",
      "[{u'indices': [42, 54], u'text': u'SouthAfrica'}]\n",
      "[{u'indices': [87, 95], u'text': u'Kelowna'}]\n",
      "[{u'indices': [28, 41], u'text': u'circumcision'}]\n",
      "[{u'indices': [109, 117], u'text': u'nymwars'}, {u'indices': [118, 127], u'text': u'facebook'}, {u'indices': [128, 135], u'text': u'google'}]\n",
      "[{u'indices': [89, 108], u'text': u'ActingCommissioner'}, {u'indices': [109, 118], u'text': u'HackGate'}]\n",
      "[{u'indices': [61, 65], u'text': u'wwe'}]\n",
      "[{u'indices': [0, 18], u'text': u'theynotinterested'}]\n",
      "[{u'indices': [0, 7], u'text': u'Police'}, {u'indices': [11, 17], u'text': u'Leeds'}, {u'indices': [63, 74], u'text': u'Chapeltown'}]\n",
      "[{u'indices': [125, 137], u'text': u'londonriots'}]\n",
      "[{u'indices': [56, 65], u'text': u'Ambition'}]\n",
      "[{u'indices': [97, 104], u'text': u'ohwell'}]\n",
      "[{u'indices': [65, 79], u'text': u'OfficialChart'}]\n",
      "[{u'indices': [72, 84], u'text': u'londonriots'}]\n",
      "[{u'indices': [53, 62], u'text': u'Sherlock'}]\n",
      "[{u'indices': [72, 77], u'text': u'Oslo'}]\n",
      "[{u'indices': [108, 115], u'text': u'GameOn'}, {u'indices': [116, 122], u'text': u'palin'}, {u'indices': [123, 134], u'text': u'undefeated'}]\n",
      "[{u'indices': [0, 4], u'text': u'NBA'}, {u'indices': [52, 57], u'text': u'Nets'}]\n",
      "[{u'indices': [23, 29], u'text': u'USWNT'}]\n",
      "[{u'indices': [3, 11], u'text': u'hacking'}, {u'indices': [90, 100], u'text': u'MetPolice'}]\n",
      "[{u'indices': [80, 92], u'text': u'londonriots'}]\n",
      "[{u'indices': [50, 58], u'text': u'Brewers'}]\n",
      "[{u'indices': [0, 5], u'text': u'Lady'}]\n",
      "[{u'indices': [59, 68], u'text': u'hackgate'}, {u'indices': [69, 77], u'text': u'antisec'}, {u'indices': [78, 88], u'text': u'anonymous'}]\n",
      "[{u'indices': [0, 6], u'text': u'Apple'}, {u'indices': [129, 134], u'text': u'ipad'}]\n",
      "[{u'indices': [131, 135], u'text': u'CSI'}]\n",
      "[{u'indices': [121, 133], u'text': u'obligations'}]\n",
      "[{u'indices': [33, 44], u'text': u'paltweetup'}, {u'indices': [109, 114], u'text': u'SCAF'}]\n",
      "[{u'indices': [0, 6], u'text': u'essex'}]\n",
      "[{u'indices': [126, 134], u'text': u'r4today'}]\n",
      "[{u'indices': [24, 42], u'text': u'hottubtimemachine'}]\n",
      "[{u'indices': [93, 102], u'text': u'donedeal'}, {u'indices': [103, 108], u'text': u'mcfc'}]\n",
      "[{u'indices': [119, 124], u'text': u'true'}]\n",
      "[{u'indices': [55, 61], u'text': u'USWNT'}]\n",
      "[{u'indices': [94, 98], u'text': u'QFG'}]\n",
      "[{u'indices': [104, 111], u'text': u'uslpro'}, {u'indices': [112, 123], u'text': u'charleston'}, {u'indices': [124, 131], u'text': u'dayton'}]\n",
      "[{u'indices': [127, 138], u'text': u'notlongnow'}]\n",
      "[{u'indices': [88, 92], u'text': u'LOL'}]\n",
      "[{u'indices': [58, 69], u'text': u'BubbaSmith'}]\n",
      "[{u'indices': [14, 25], u'text': u'TeamBreezy'}]\n",
      "[{u'indices': [131, 138], u'text': u'Azkals'}]\n",
      "[{u'indices': [125, 130], u'text': u'tcot'}, {u'indices': [131, 134], u'text': u'p2'}]\n",
      "[{u'indices': [82, 87], u'text': u'Jets'}]\n",
      "[{u'indices': [50, 62], u'text': u'RiverMarket'}]\n",
      "[{u'indices': [6, 14], u'text': u'shuttle'}, {u'indices': [22, 35], u'text': u'spacestation'}, {u'indices': [75, 80], u'text': u'nasa'}, {u'indices': [81, 87], u'text': u'space'}]\n",
      "[{u'indices': [56, 63], u'text': u'Tahrir'}, {u'indices': [97, 103], u'text': u'Egypt'}]\n",
      "[{u'indices': [10, 17], u'text': u'Norway'}, {u'indices': [106, 111], u'text': u'OSLO'}]\n",
      "[{u'indices': [124, 132], u'text': u'Bahrain'}]\n",
      "[{u'indices': [0, 7], u'text': u'Eagles'}, {u'indices': [134, 138], u'text': u'nfl'}]\n",
      "[{u'indices': [58, 64], u'text': u'Utoya'}, {u'indices': [94, 99], u'text': u'oslo'}]\n",
      "[{u'indices': [66, 78], u'text': u'DamnItsTrue'}]\n",
      "[{u'indices': [105, 117], u'text': u'londonriots'}]\n",
      "[{u'indices': [82, 93], u'text': u'ALWSShelby'}]\n",
      "[{u'indices': [4, 17], u'text': u'amywinehouse'}]\n",
      "[{u'indices': [0, 10], u'text': u'singapore'}, {u'indices': [131, 136], u'text': u'news'}]\n",
      "[{u'indices': [0, 6], u'text': u'Panda'}, {u'indices': [9, 22], u'text': u'NateTheGreat'}, {u'indices': [25, 35], u'text': u'HuffDaddy'}, {u'indices': [65, 74], u'text': u'SFGiants'}, {u'indices': [93, 103], u'text': u'2OutRally'}]\n",
      "[{u'indices': [77, 81], u'text': u'pll'}]\n",
      "[{u'indices': [33, 41], u'text': u'Murdoch'}, {u'indices': [45, 53], u'text': u'hacking'}, {u'indices': [81, 86], u'text': u'NOTW'}]\n",
      "[{u'indices': [0, 8], u'text': u'Newspam'}]\n",
      "[{u'indices': [127, 139], u'text': u'hackinggate'}]\n",
      "[{u'indices': [62, 70], u'text': u'NewsInt'}]\n",
      "[{u'indices': [28, 36], u'text': u'Croydon'}, {u'indices': [39, 47], u'text': u'Brixton'}, {u'indices': [53, 61], u'text': u'Enfield'}]\n",
      "[{u'indices': [49, 57], u'text': u'EngvInd'}]\n",
      "[{u'indices': [114, 124], u'text': u'Anonymous'}, {u'indices': [125, 133], u'text': u'Antisec'}]\n",
      "[{u'indices': [69, 75], u'text': u'TheSW'}]\n",
      "[{u'indices': [117, 129], u'text': u'trentsevern'}]\n",
      "[{u'indices': [113, 118], u'text': u'oslo'}]\n",
      "[{u'indices': [120, 133], u'text': u'bamabaseball'}]\n",
      "[{u'indices': [91, 105], u'text': u'prayforLondon'}]\n",
      "[{u'indices': [0, 14], u'text': u'harimaumalaya'}]\n",
      "[{u'indices': [106, 110], u'text': u'yyj'}]\n",
      "[{u'indices': [45, 57], u'text': u'yeahisaidit'}]\n",
      "[{u'indices': [106, 114], u'text': u'wiunion'}, {u'indices': [115, 118], u'text': u'WI'}, {u'indices': [119, 122], u'text': u'p2'}]\n",
      "[{u'indices': [88, 92], u'text': u'NDP'}, {u'indices': [93, 101], u'text': u'Cdnpoli'}]\n",
      "[{u'indices': [47, 58], u'text': u'Stephenson'}, {u'indices': [104, 117], u'text': u'phonehacking'}, {u'indices': [118, 123], u'text': u'notw'}]\n",
      "[{u'indices': [95, 102], u'text': u'actors'}]\n",
      "[{u'indices': [50, 61], u'text': u'Manchester'}, {u'indices': [64, 72], u'text': u'Salford'}, {u'indices': [131, 139], u'text': u'ukriots'}]\n",
      "[{u'indices': [124, 130], u'text': u'USWNT'}]\n",
      "[{u'indices': [101, 108], u'text': u'OpBART'}]\n",
      "[{u'indices': [19, 27], u'text': u'Arsenal'}, {u'indices': [73, 77], u'text': u'FCB'}, {u'indices': [78, 82], u'text': u'afc'}, {u'indices': [105, 113], u'text': u'gunners'}]\n"
     ]
    }
   ],
   "source": [
    "for tw in tweet_corpus.values():\n",
    "    if len(tw['tweet_info']['entities']['hashtags'])>0:\n",
    "        print tw['tweet_info']['entities']['hashtags']"
   ]
  },
  {
   "cell_type": "code",
   "execution_count": null,
   "metadata": {
    "collapsed": true
   },
   "outputs": [],
   "source": [
    "def make_hashtag_mapping(tw_id):\n",
    "    ret = {}\n",
    "    for tag in tw_corpus[tw_id]['tweet_info']['entities']['hashtags']:\n",
    "        ret[tag['text']] = tag\n",
    "    return ret"
   ]
  },
  {
   "cell_type": "markdown",
   "metadata": {},
   "source": [
    "### b. Mention"
   ]
  },
  {
   "cell_type": "markdown",
   "metadata": {},
   "source": [
    "### c. Cashtag"
   ]
  },
  {
   "cell_type": "markdown",
   "metadata": {},
   "source": [
    "### d. URL"
   ]
  },
  {
   "cell_type": "code",
   "execution_count": null,
   "metadata": {
    "collapsed": true
   },
   "outputs": [],
   "source": []
  }
 ],
 "metadata": {
  "kernelspec": {
   "display_name": "Python 2",
   "language": "python",
   "name": "python2"
  },
  "language_info": {
   "codemirror_mode": {
    "name": "ipython",
    "version": 2
   },
   "file_extension": ".py",
   "mimetype": "text/x-python",
   "name": "python",
   "nbconvert_exporter": "python",
   "pygments_lexer": "ipython2",
   "version": "2.7.11"
  }
 },
 "nbformat": 4,
 "nbformat_minor": 0
}
